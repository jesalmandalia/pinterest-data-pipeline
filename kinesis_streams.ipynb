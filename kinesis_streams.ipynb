{
 "cells": [
  {
   "cell_type": "markdown",
   "metadata": {
    "application/vnd.databricks.v1+cell": {
     "cellMetadata": {
      "byteLimit": 2048000,
      "rowLimit": 10000
     },
     "inputWidgets": {},
     "nuid": "77f44021-58e1-477d-8935-6749e176e027",
     "showTitle": false,
     "title": ""
    }
   },
   "source": [
    "### Kinesis Streams Data Processing\n",
    "\n",
    "This notebook demonstrates the process of reading data from AWS Kinesis streams using PySpark. The code performs the following operations:\n",
    "\n",
    "1. Reads AWS access and secret keys from a CSV file.\n",
    "2. Initialises stream readers for three Kinesis streams: \"streaming-0a48d8473ced-pin,\" \"streaming-0a48d8473ced-geo,\" and \"streaming-0a48d8473ced-user.\"\n",
    "3. Retrieves and displays data frames from the respective Kinesis streams.\n",
    "4. Data cleaning operations \n",
    "5. Write the cleaned data to a Delta table.\n"
   ]
  },
  {
   "cell_type": "markdown",
   "metadata": {
    "application/vnd.databricks.v1+cell": {
     "cellMetadata": {
      "byteLimit": 2048000,
      "rowLimit": 10000
     },
     "inputWidgets": {},
     "nuid": "8cf6baf1-e85c-4795-beb7-d4ed5cc165cd",
     "showTitle": false,
     "title": ""
    }
   },
   "source": [
    "#### Configuration for AWS\n",
    "The following code reads the AWS access and secret keys from a CSV file. This is allows us to access and retrieve data for streaming."
   ]
  },
  {
   "cell_type": "code",
   "execution_count": 0,
   "metadata": {
    "application/vnd.databricks.v1+cell": {
     "cellMetadata": {
      "byteLimit": 2048000,
      "rowLimit": 10000
     },
     "inputWidgets": {},
     "nuid": "614cb4cc-f776-4fa9-98ce-573a2094a2a3",
     "showTitle": false,
     "title": ""
    }
   },
   "outputs": [
    {
     "output_type": "display_data",
     "data": {
      "text/html": [
       "<style scoped>\n",
       "  .ansiout {\n",
       "    display: block;\n",
       "    unicode-bidi: embed;\n",
       "    white-space: pre-wrap;\n",
       "    word-wrap: break-word;\n",
       "    word-break: break-all;\n",
       "    font-family: \"Source Code Pro\", \"Menlo\", monospace;;\n",
       "    font-size: 13px;\n",
       "    color: #555;\n",
       "    margin-left: 4px;\n",
       "    line-height: 19px;\n",
       "  }\n",
       "</style>\n",
       "<div class=\"ansiout\"></div>"
      ]
     },
     "metadata": {
      "application/vnd.databricks.v1+output": {
       "addedWidgets": {},
       "arguments": {},
       "data": "<div class=\"ansiout\"></div>",
       "datasetInfos": [],
       "metadata": {},
       "removedWidgets": [],
       "type": "html"
      }
     },
     "output_type": "display_data"
    }
   ],
   "source": [
    "dbutils.fs.ls(\"/FileStore/tables\")\n",
    "\n",
    "from pyspark.sql.types import *\n",
    "from pyspark.sql.functions import *\n",
    "import urllib\n",
    "file_type = \"csv\"\n",
    "first_row_is_header = \"true\"\n",
    "delimiter = \",\"\n",
    "# Read the CSV file to spark dataframe\n",
    "aws_keys_df = spark.read.format(file_type)\\\n",
    ".option(\"header\", first_row_is_header)\\\n",
    ".option(\"sep\", delimiter)\\\n",
    ".load(\"/FileStore/tables/authentication_credentials.csv\")\n",
    "\n",
    "# Get the AWS access key and secret key from the spark dataframe\n",
    "ACCESS_KEY = aws_keys_df.where(col('User name')=='databricks-user').select('Access key ID').collect()[0]['Access key ID']\n",
    "SECRET_KEY = aws_keys_df.where(col('User name')=='databricks-user').select('Secret access key').collect()[0]['Secret access key']\n",
    "ENCODED_SECRET_KEY = urllib.parse.quote(string=SECRET_KEY, safe=\"\")"
   ]
  },
  {
   "cell_type": "markdown",
   "metadata": {
    "application/vnd.databricks.v1+cell": {
     "cellMetadata": {
      "byteLimit": 2048000,
      "rowLimit": 10000
     },
     "inputWidgets": {},
     "nuid": "1075891a-bd6f-4090-a029-914c32f1d239",
     "showTitle": false,
     "title": ""
    }
   },
   "source": [
    "#### Initialise Stream Readers\n",
    "Next initialise stream readers for three Kinesis streams: \"streaming-0a48d8473ced-pin,\" \"streaming-0a48d8473ced-geo,\" and \"streaming-0a48d8473ced-user.\""
   ]
  },
  {
   "cell_type": "code",
   "execution_count": 0,
   "metadata": {
    "application/vnd.databricks.v1+cell": {
     "cellMetadata": {
      "byteLimit": 2048000,
      "rowLimit": 10000
     },
     "inputWidgets": {},
     "nuid": "aae3473f-6f6a-48bc-84ae-5b045b1d23a4",
     "showTitle": false,
     "title": ""
    }
   },
   "outputs": [
    {
     "output_type": "display_data",
     "data": {
      "text/html": [
       "<style scoped>\n",
       "  .table-result-container {\n",
       "    max-height: 300px;\n",
       "    overflow: auto;\n",
       "  }\n",
       "  table, th, td {\n",
       "    border: 1px solid black;\n",
       "    border-collapse: collapse;\n",
       "  }\n",
       "  th, td {\n",
       "    padding: 5px;\n",
       "  }\n",
       "  th {\n",
       "    text-align: left;\n",
       "  }\n",
       "</style><div class='table-result-container'><table class='table-result'><thead style='background-color: white'><tr><th>partitionKey</th><th>data</th><th>stream</th><th>shardId</th><th>sequenceNumber</th><th>approximateArrivalTimestamp</th></tr></thead><tbody><tr><td>5730</td><td>eyJpbmRleCI6NTczMCwidW5pcXVlX2lkIjoiMWUxZjBjOGItOWZjZi00NjBiLTkxNTQtYzc3NTgyNzIwNmViIiwidGl0bGUiOiJJc2xhbmQgT2FzaXMgQ291cG9uIE9yZ2FuaXplciIsImRlc2NyaXB0aW9uIjoiRGVzY3JpcHQ= (truncated)</td><td>streaming-0a48d8473ced-pin</td><td>shardId-000000000000</td><td>49645583445008519613343965539482364925642092958332223490</td><td>2023-10-20T11:47:37.285+0000</td></tr><tr><td>8304</td><td>eyJpbmRleCI6ODMwNCwidW5pcXVlX2lkIjoiNWI2ZDA5MTMtMjVlNC00M2FiLTgzOWQtODVkNTUxNmY3OGE0IiwidGl0bGUiOiJUaGUgIzEgUmVhc29uIFlvdeKAmXJlIE5vdCBIaXMgUHJpb3JpdHkgQW55bW9yZSAtIE1hdHQ= (truncated)</td><td>streaming-0a48d8473ced-pin</td><td>shardId-000000000000</td><td>49645583445008519613343965539640734208011609517657686018</td><td>2023-10-20T11:47:40.199+0000</td></tr><tr><td>7554</td><td>eyJpbmRleCI6NzU1NCwidW5pcXVlX2lkIjoiYzZmYTEyZjQtMGQ0YS00YjA3LWEzMzUtNWJmOWYzN2Y4MjgxIiwidGl0bGUiOiJDcmFpZyBTdHlsZSIsImRlc2NyaXB0aW9uIjoiaW1nZW50bGVib3NzOiDigJwgLSBNb3JlIGE= (truncated)</td><td>streaming-0a48d8473ced-pin</td><td>shardId-000000000000</td><td>49645583445008519613343965541987259223883606532468768770</td><td>2023-10-20T11:48:05.457+0000</td></tr><tr><td>3156</td><td>eyJpbmRleCI6MzE1NiwidW5pcXVlX2lkIjoiZmE2ZTMxYTQtMThjMi00ZWNhLWE2ZDgtZTkwM2VlZTJjMmE0IiwidGl0bGUiOiJIYW5kcHJpbnQgUmVpbmRlZXIgT3JuYW1lbnRzIC0gQ3JhZnR5IE1vcm5pbmciLCJkZXNjcmk= (truncated)</td><td>streaming-0a48d8473ced-pin</td><td>shardId-000000000000</td><td>49645583445008519613343965543272347370133958238534631426</td><td>2023-10-20T11:48:19.076+0000</td></tr><tr><td>2074</td><td>eyJpbmRleCI6MjA3NCwidW5pcXVlX2lkIjoiODZlZDA5YTctODQyZC00OTZkLTk1MDEtMDEwYzY1NGViMzQwIiwidGl0bGUiOiIzNSBDaHJpc3RtYXMgRGVjb3JhdGluZyBJZGVhcyBXZSBCZXQgWW91IEhhdmVuJ3QgVGhvdWc= (truncated)</td><td>streaming-0a48d8473ced-pin</td><td>shardId-000000000000</td><td>49645583445008519613343965543916704831988556069689360386</td><td>2023-10-20T11:48:25.675+0000</td></tr></tbody></table></div>"
      ]
     },
     "metadata": {
      "application/vnd.databricks.v1+output": {
       "addedWidgets": {},
       "aggData": [],
       "aggError": "",
       "aggOverflow": false,
       "aggSchema": [],
       "aggSeriesLimitReached": false,
       "aggType": "",
       "arguments": {},
       "columnCustomDisplayInfos": {},
       "data": [
        [
         "5730",
         "eyJpbmRleCI6NTczMCwidW5pcXVlX2lkIjoiMWUxZjBjOGItOWZjZi00NjBiLTkxNTQtYzc3NTgyNzIwNmViIiwidGl0bGUiOiJJc2xhbmQgT2FzaXMgQ291cG9uIE9yZ2FuaXplciIsImRlc2NyaXB0aW9uIjoiRGVzY3JpcHQ= (truncated)",
         "streaming-0a48d8473ced-pin",
         "shardId-000000000000",
         "49645583445008519613343965539482364925642092958332223490",
         "2023-10-20T11:47:37.285+0000"
        ],
        [
         "8304",
         "eyJpbmRleCI6ODMwNCwidW5pcXVlX2lkIjoiNWI2ZDA5MTMtMjVlNC00M2FiLTgzOWQtODVkNTUxNmY3OGE0IiwidGl0bGUiOiJUaGUgIzEgUmVhc29uIFlvdeKAmXJlIE5vdCBIaXMgUHJpb3JpdHkgQW55bW9yZSAtIE1hdHQ= (truncated)",
         "streaming-0a48d8473ced-pin",
         "shardId-000000000000",
         "49645583445008519613343965539640734208011609517657686018",
         "2023-10-20T11:47:40.199+0000"
        ],
        [
         "7554",
         "eyJpbmRleCI6NzU1NCwidW5pcXVlX2lkIjoiYzZmYTEyZjQtMGQ0YS00YjA3LWEzMzUtNWJmOWYzN2Y4MjgxIiwidGl0bGUiOiJDcmFpZyBTdHlsZSIsImRlc2NyaXB0aW9uIjoiaW1nZW50bGVib3NzOiDigJwgLSBNb3JlIGE= (truncated)",
         "streaming-0a48d8473ced-pin",
         "shardId-000000000000",
         "49645583445008519613343965541987259223883606532468768770",
         "2023-10-20T11:48:05.457+0000"
        ],
        [
         "3156",
         "eyJpbmRleCI6MzE1NiwidW5pcXVlX2lkIjoiZmE2ZTMxYTQtMThjMi00ZWNhLWE2ZDgtZTkwM2VlZTJjMmE0IiwidGl0bGUiOiJIYW5kcHJpbnQgUmVpbmRlZXIgT3JuYW1lbnRzIC0gQ3JhZnR5IE1vcm5pbmciLCJkZXNjcmk= (truncated)",
         "streaming-0a48d8473ced-pin",
         "shardId-000000000000",
         "49645583445008519613343965543272347370133958238534631426",
         "2023-10-20T11:48:19.076+0000"
        ],
        [
         "2074",
         "eyJpbmRleCI6MjA3NCwidW5pcXVlX2lkIjoiODZlZDA5YTctODQyZC00OTZkLTk1MDEtMDEwYzY1NGViMzQwIiwidGl0bGUiOiIzNSBDaHJpc3RtYXMgRGVjb3JhdGluZyBJZGVhcyBXZSBCZXQgWW91IEhhdmVuJ3QgVGhvdWc= (truncated)",
         "streaming-0a48d8473ced-pin",
         "shardId-000000000000",
         "49645583445008519613343965543916704831988556069689360386",
         "2023-10-20T11:48:25.675+0000"
        ]
       ],
       "datasetInfos": [],
       "dbfsResultPath": null,
       "isJsonSchema": true,
       "metadata": {
        "isDbfsCommandResult": false
       },
       "overflow": false,
       "plotOptions": {
        "customPlotOptions": {},
        "displayType": "table",
        "pivotAggregation": null,
        "pivotColumns": null,
        "xColumns": null,
        "yColumns": null
       },
       "removedWidgets": [],
       "schema": [
        {
         "metadata": "{}",
         "name": "partitionKey",
         "type": "\"string\""
        },
        {
         "metadata": "{}",
         "name": "data",
         "type": "\"binary\""
        },
        {
         "metadata": "{}",
         "name": "stream",
         "type": "\"string\""
        },
        {
         "metadata": "{}",
         "name": "shardId",
         "type": "\"string\""
        },
        {
         "metadata": "{}",
         "name": "sequenceNumber",
         "type": "\"string\""
        },
        {
         "metadata": "{}",
         "name": "approximateArrivalTimestamp",
         "type": "\"timestamp\""
        }
       ],
       "type": "table"
      }
     },
     "output_type": "display_data"
    }
   ],
   "source": [
    "df_pin = spark \\\n",
    ".readStream \\\n",
    ".format('kinesis') \\\n",
    ".option('streamName','streaming-0a48d8473ced-pin') \\\n",
    ".option('initialPosition','earliest') \\\n",
    ".option('region','us-east-1') \\\n",
    ".option('awsAccessKey', ACCESS_KEY) \\\n",
    ".option('awsSecretKey', SECRET_KEY) \\\n",
    ".load()\n",
    "\n",
    "display(df_pin.limit(5))\n",
    "\n",
    "df_geo = spark \\\n",
    ".readStream \\\n",
    ".format('kinesis') \\\n",
    ".option('streamName','streaming-0a48d8473ced-geo') \\\n",
    ".option('initialPosition','earliest') \\\n",
    ".option('region','us-east-1') \\\n",
    ".option('awsAccessKey', ACCESS_KEY) \\\n",
    ".option('awsSecretKey', SECRET_KEY) \\\n",
    ".load()\n",
    "\n",
    "display(df_geo.limit(5))\n",
    "\n",
    "df_user = spark \\\n",
    ".readStream \\\n",
    ".format('kinesis') \\\n",
    ".option('streamName','streaming-0a48d8473ced-user') \\\n",
    ".option('initialPosition','earliest') \\\n",
    ".option('region','us-east-1') \\\n",
    ".option('awsAccessKey', ACCESS_KEY) \\\n",
    ".option('awsSecretKey', SECRET_KEY) \\\n",
    ".load()\n",
    "\n",
    "display(df_user.limit(5))"
   ]
  },
  {
   "cell_type": "markdown",
   "metadata": {
    "application/vnd.databricks.v1+cell": {
     "cellMetadata": {
      "byteLimit": 2048000,
      "rowLimit": 10000
     },
     "inputWidgets": {},
     "nuid": "4962404d-6297-46b2-9b8b-35764543679c",
     "showTitle": false,
     "title": ""
    }
   },
   "source": [
    "#### Display Data Frames\n",
    "This code snippet retrieves and displays data frames from the respective Kinesis streams.\n",
    "\n",
    "The selectExpr(\"CAST(data as STRING)\") operation is used to convert the streamed data into a string format, enabling easier manipulation and analysis. \n",
    "The subsequent display functions showcase the contents of the data frames df_pin, df_geo, and df_user to facilitate further data processing and analysis."
   ]
  },
  {
   "cell_type": "code",
   "execution_count": 0,
   "metadata": {
    "application/vnd.databricks.v1+cell": {
     "cellMetadata": {
      "byteLimit": 2048000,
      "rowLimit": 10000
     },
     "inputWidgets": {},
     "nuid": "61ab5757-7685-4c98-b4e4-f54e6a478c69",
     "showTitle": false,
     "title": ""
    }
   },
   "outputs": [
    {
     "output_type": "display_data",
     "data": {
      "text/html": [
       "<style scoped>\n",
       "  .table-result-container {\n",
       "    max-height: 300px;\n",
       "    overflow: auto;\n",
       "  }\n",
       "  table, th, td {\n",
       "    border: 1px solid black;\n",
       "    border-collapse: collapse;\n",
       "  }\n",
       "  th, td {\n",
       "    padding: 5px;\n",
       "  }\n",
       "  th {\n",
       "    text-align: left;\n",
       "  }\n",
       "</style><div class='table-result-container'><table class='table-result'><thead style='background-color: white'><tr><th>data</th></tr></thead><tbody><tr><td>{\"ind\":5730,\"first_name\":\"Rachel\",\"last_name\":\"Davis\",\"age\":36,\"date_joined\":\"2015-12-08 20:02:43\"}</td></tr><tr><td>{\"ind\":8304,\"first_name\":\"Charles\",\"last_name\":\"Berry\",\"age\":25,\"date_joined\":\"2015-12-28 04:21:39\"}</td></tr><tr><td>{\"ind\":7554,\"first_name\":\"Cheryl\",\"last_name\":\"Huerta\",\"age\":20,\"date_joined\":\"2017-04-11 16:35:33\"}</td></tr><tr><td>{\"ind\":3156,\"first_name\":\"Andrew\",\"last_name\":\"Baker\",\"age\":22,\"date_joined\":\"2015-12-21 08:06:54\"}</td></tr><tr><td>{\"ind\":2074,\"first_name\":\"Annette\",\"last_name\":\"Forbes\",\"age\":21,\"date_joined\":\"2016-01-03 15:42:12\"}</td></tr></tbody></table></div>"
      ]
     },
     "metadata": {
      "application/vnd.databricks.v1+output": {
       "addedWidgets": {},
       "aggData": [],
       "aggError": "",
       "aggOverflow": false,
       "aggSchema": [],
       "aggSeriesLimitReached": false,
       "aggType": "",
       "arguments": {},
       "columnCustomDisplayInfos": {},
       "data": [
        [
         "{\"ind\":5730,\"first_name\":\"Rachel\",\"last_name\":\"Davis\",\"age\":36,\"date_joined\":\"2015-12-08 20:02:43\"}"
        ],
        [
         "{\"ind\":8304,\"first_name\":\"Charles\",\"last_name\":\"Berry\",\"age\":25,\"date_joined\":\"2015-12-28 04:21:39\"}"
        ],
        [
         "{\"ind\":7554,\"first_name\":\"Cheryl\",\"last_name\":\"Huerta\",\"age\":20,\"date_joined\":\"2017-04-11 16:35:33\"}"
        ],
        [
         "{\"ind\":3156,\"first_name\":\"Andrew\",\"last_name\":\"Baker\",\"age\":22,\"date_joined\":\"2015-12-21 08:06:54\"}"
        ],
        [
         "{\"ind\":2074,\"first_name\":\"Annette\",\"last_name\":\"Forbes\",\"age\":21,\"date_joined\":\"2016-01-03 15:42:12\"}"
        ]
       ],
       "datasetInfos": [],
       "dbfsResultPath": null,
       "isJsonSchema": true,
       "metadata": {
        "isDbfsCommandResult": false
       },
       "overflow": false,
       "plotOptions": {
        "customPlotOptions": {},
        "displayType": "table",
        "pivotAggregation": null,
        "pivotColumns": null,
        "xColumns": null,
        "yColumns": null
       },
       "removedWidgets": [],
       "schema": [
        {
         "metadata": "{}",
         "name": "data",
         "type": "\"string\""
        }
       ],
       "type": "table"
      }
     },
     "output_type": "display_data"
    }
   ],
   "source": [
    "df_pin = df_pin.selectExpr(\"CAST(data as STRING)\")\n",
    "display(df_pin.limit(5))\n",
    "df_geo = df_geo.selectExpr(\"CAST(data as STRING)\")\n",
    "display(df_geo.limit(5))\n",
    "df_user = df_user.selectExpr(\"CAST(data as STRING)\")\n",
    "display(df_user.limit(5))"
   ]
  },
  {
   "cell_type": "markdown",
   "metadata": {
    "application/vnd.databricks.v1+cell": {
     "cellMetadata": {
      "byteLimit": 2048000,
      "rowLimit": 10000
     },
     "inputWidgets": {},
     "nuid": "cd32b8df-386e-4a99-94d9-ae3a0fc2cbff",
     "showTitle": false,
     "title": ""
    }
   },
   "source": [
    "### Data Cleaning\n",
    "\n",
    "The following code snippets demonstrates the data cleaning process for the DataFrames. These operations contribute to ensuring the quality and consistency of the data within the DataFrames. This is in preparation for subsequent analysis and processing."
   ]
  },
  {
   "cell_type": "markdown",
   "metadata": {
    "application/vnd.databricks.v1+cell": {
     "cellMetadata": {
      "byteLimit": 2048000,
      "rowLimit": 10000
     },
     "inputWidgets": {},
     "nuid": "985566a3-796b-49a3-91d3-c5312d81f79c",
     "showTitle": false,
     "title": ""
    }
   },
   "source": [
    "#### Data Cleaning for df_pin"
   ]
  },
  {
   "cell_type": "code",
   "execution_count": 0,
   "metadata": {
    "application/vnd.databricks.v1+cell": {
     "cellMetadata": {
      "byteLimit": 2048000,
      "rowLimit": 10000
     },
     "inputWidgets": {},
     "nuid": "bf9725a1-1b5e-48c1-bcb1-680eb15ee1af",
     "showTitle": false,
     "title": ""
    }
   },
   "outputs": [
    {
     "output_type": "display_data",
     "data": {
      "text/html": [
       "<style scoped>\n",
       "  .table-result-container {\n",
       "    max-height: 300px;\n",
       "    overflow: auto;\n",
       "  }\n",
       "  table, th, td {\n",
       "    border: 1px solid black;\n",
       "    border-collapse: collapse;\n",
       "  }\n",
       "  th, td {\n",
       "    padding: 5px;\n",
       "  }\n",
       "  th {\n",
       "    text-align: left;\n",
       "  }\n",
       "</style><div class='table-result-container'><table class='table-result'><thead style='background-color: white'><tr><th>ind</th><th>unique_id</th><th>title</th><th>description</th><th>follower_count</th><th>poster_name</th><th>tag_list</th><th>is_image_or_video</th><th>image_src</th><th>save_location</th><th>category</th></tr></thead><tbody><tr><td>5730</td><td>1e1f0c8b-9fcf-460b-9154-c775827206eb</td><td>Island Oasis Coupon Organizer</td><td>Description Coupon Organizer in a fun colorful fabric -island oasis, Great Size for the \"basic\" couponer - holds up to 500 coupons with ease, and is made long enough so that you… </td><td>0</td><td>Consuelo Aguirre</td><td>Grocery Items,Grocery Coupons,Care Organization,Coupon Organization,Extreme Couponing,Couponing 101,Life Binder,Save My Money,Love Coupons</td><td>image</td><td>https://i.pinimg.com/originals/65/bb/ea/65bbeaf458907bb079317d8303c4fa0e.jpg</td><td>/data/finance</td><td>finance</td></tr><tr><td>8304</td><td>5b6d0913-25e4-43ab-839d-85d5516f78a4</td><td>The #1 Reason You’re Not His Priority Anymore - Matthew Coast</td><td>#lovequotes #matchmaker #matchmadeinheaven #loveyourself #respectyourself</td><td>51000</td><td>Commitment Connection</td><td>Wise Quotes,Quotable Quotes,Words Quotes,Wise Words,Quotes To Live By,Great Quotes,Motivational Quotes,Inspirational Quotes,Funny Quotes</td><td>image</td><td>https://i.pinimg.com/originals/c6/64/ee/c664ee71524fb5a6e7b7b49233f93b43.png</td><td>/data/quotes</td><td>quotes</td></tr><tr><td>7554</td><td>c6fa12f4-0d4a-4b07-a335-5bf9f37f8281</td><td>Craig Style</td><td>imgentleboss: “ - More about men’s fashion at @Gentleboss - GB’s Facebook - ”</td><td>940</td><td>iElylike ..✿◕‿◕✿ஐ✿◕‿◕✿</td><td>Mens Fashion Blog,Look Fashion,Autumn Fashion,Fashion News,Fashion Sale,80s Fashion,Paris Fashion,Runway Fashion,Fashion Trends</td><td>image</td><td>https://i.pinimg.com/originals/e7/6e/8e/e76e8ed6cc838b84a934c6948a5caff7.jpg</td><td>/data/mens-fashion</td><td>mens-fashion</td></tr><tr><td>3156</td><td>fa6e31a4-18c2-4eca-a6d8-e903eee2c2a4</td><td>Handprint Reindeer Ornaments - Crafty Morning</td><td>This post may contain affiliate links, read our Disclosure Policy for more information. As an Amazon Associate I earn from qualifying purchases, thank you! Make some cute handpr… </td><td>892000</td><td>Michelle {CraftyMorning.com}</td><td>Christmas Gifts For Parents,Christmas Decorations For Kids,Christmas Crafts For Toddlers,Preschool Christmas,Christmas Crafts For Gifts,Christmas Activities,Toddler Crafts,Kids Christmas,Christmas Feeling</td><td>image</td><td>https://i.pinimg.com/originals/ff/fe/38/fffe384f3ec18a0d87cb2d80cc8c1499.jpg</td><td>/data/diy-and-crafts</td><td>diy-and-crafts</td></tr><tr><td>2074</td><td>86ed09a7-842d-496d-9501-010c654eb340</td><td>35 Christmas Decorating Ideas We Bet You Haven't Thought Of</td><td>20 Christmas Decorating Ideas We Bet You Haven't Thought Of via @PureWow</td><td>868000</td><td>PureWow</td><td>Holiday Centerpieces,Xmas Decorations,Centerpiece Ideas,Table Centerpieces,Valentine Decorations,Wedding Centerpieces,Outdoor Decorations,Christmas Centerpieces With Candles,Christmas Dining Table Decorations</td><td>image</td><td>https://i.pinimg.com/originals/e9/b9/f0/e9b9f01cc3b2cf41948b45854335396c.jpg</td><td>/data/christmas</td><td>christmas</td></tr></tbody></table></div>"
      ]
     },
     "metadata": {
      "application/vnd.databricks.v1+output": {
       "addedWidgets": {},
       "aggData": [],
       "aggError": "",
       "aggOverflow": false,
       "aggSchema": [],
       "aggSeriesLimitReached": false,
       "aggType": "",
       "arguments": {},
       "columnCustomDisplayInfos": {},
       "data": [
        [
         "5730",
         "1e1f0c8b-9fcf-460b-9154-c775827206eb",
         "Island Oasis Coupon Organizer",
         "Description Coupon Organizer in a fun colorful fabric -island oasis, Great Size for the \"basic\" couponer - holds up to 500 coupons with ease, and is made long enough so that you… ",
         0,
         "Consuelo Aguirre",
         "Grocery Items,Grocery Coupons,Care Organization,Coupon Organization,Extreme Couponing,Couponing 101,Life Binder,Save My Money,Love Coupons",
         "image",
         "https://i.pinimg.com/originals/65/bb/ea/65bbeaf458907bb079317d8303c4fa0e.jpg",
         "/data/finance",
         "finance"
        ],
        [
         "8304",
         "5b6d0913-25e4-43ab-839d-85d5516f78a4",
         "The #1 Reason You’re Not His Priority Anymore - Matthew Coast",
         "#lovequotes #matchmaker #matchmadeinheaven #loveyourself #respectyourself",
         51000,
         "Commitment Connection",
         "Wise Quotes,Quotable Quotes,Words Quotes,Wise Words,Quotes To Live By,Great Quotes,Motivational Quotes,Inspirational Quotes,Funny Quotes",
         "image",
         "https://i.pinimg.com/originals/c6/64/ee/c664ee71524fb5a6e7b7b49233f93b43.png",
         "/data/quotes",
         "quotes"
        ],
        [
         "7554",
         "c6fa12f4-0d4a-4b07-a335-5bf9f37f8281",
         "Craig Style",
         "imgentleboss: “ - More about men’s fashion at @Gentleboss - GB’s Facebook - ”",
         940,
         "iElylike ..✿◕‿◕✿ஐ✿◕‿◕✿",
         "Mens Fashion Blog,Look Fashion,Autumn Fashion,Fashion News,Fashion Sale,80s Fashion,Paris Fashion,Runway Fashion,Fashion Trends",
         "image",
         "https://i.pinimg.com/originals/e7/6e/8e/e76e8ed6cc838b84a934c6948a5caff7.jpg",
         "/data/mens-fashion",
         "mens-fashion"
        ],
        [
         "3156",
         "fa6e31a4-18c2-4eca-a6d8-e903eee2c2a4",
         "Handprint Reindeer Ornaments - Crafty Morning",
         "This post may contain affiliate links, read our Disclosure Policy for more information. As an Amazon Associate I earn from qualifying purchases, thank you! Make some cute handpr… ",
         892000,
         "Michelle {CraftyMorning.com}",
         "Christmas Gifts For Parents,Christmas Decorations For Kids,Christmas Crafts For Toddlers,Preschool Christmas,Christmas Crafts For Gifts,Christmas Activities,Toddler Crafts,Kids Christmas,Christmas Feeling",
         "image",
         "https://i.pinimg.com/originals/ff/fe/38/fffe384f3ec18a0d87cb2d80cc8c1499.jpg",
         "/data/diy-and-crafts",
         "diy-and-crafts"
        ],
        [
         "2074",
         "86ed09a7-842d-496d-9501-010c654eb340",
         "35 Christmas Decorating Ideas We Bet You Haven't Thought Of",
         "20 Christmas Decorating Ideas We Bet You Haven't Thought Of via @PureWow",
         868000,
         "PureWow",
         "Holiday Centerpieces,Xmas Decorations,Centerpiece Ideas,Table Centerpieces,Valentine Decorations,Wedding Centerpieces,Outdoor Decorations,Christmas Centerpieces With Candles,Christmas Dining Table Decorations",
         "image",
         "https://i.pinimg.com/originals/e9/b9/f0/e9b9f01cc3b2cf41948b45854335396c.jpg",
         "/data/christmas",
         "christmas"
        ]
       ],
       "datasetInfos": [],
       "dbfsResultPath": null,
       "isJsonSchema": true,
       "metadata": {
        "isDbfsCommandResult": false
       },
       "overflow": false,
       "plotOptions": {
        "customPlotOptions": {},
        "displayType": "table",
        "pivotAggregation": null,
        "pivotColumns": null,
        "xColumns": null,
        "yColumns": null
       },
       "removedWidgets": [],
       "schema": [
        {
         "metadata": "{}",
         "name": "ind",
         "type": "\"string\""
        },
        {
         "metadata": "{}",
         "name": "unique_id",
         "type": "\"string\""
        },
        {
         "metadata": "{}",
         "name": "title",
         "type": "\"string\""
        },
        {
         "metadata": "{}",
         "name": "description",
         "type": "\"string\""
        },
        {
         "metadata": "{}",
         "name": "follower_count",
         "type": "\"integer\""
        },
        {
         "metadata": "{}",
         "name": "poster_name",
         "type": "\"string\""
        },
        {
         "metadata": "{}",
         "name": "tag_list",
         "type": "\"string\""
        },
        {
         "metadata": "{}",
         "name": "is_image_or_video",
         "type": "\"string\""
        },
        {
         "metadata": "{}",
         "name": "image_src",
         "type": "\"string\""
        },
        {
         "metadata": "{}",
         "name": "save_location",
         "type": "\"string\""
        },
        {
         "metadata": "{}",
         "name": "category",
         "type": "\"string\""
        }
       ],
       "type": "table"
      }
     },
     "output_type": "display_data"
    }
   ],
   "source": [
    "from pyspark.sql.functions import from_json, col\n",
    "from pyspark.sql.types import StringType, StructField, StructType\n",
    "\n",
    "# Take the JSON string and convert into a data frame with the corresponding schema\n",
    "# Define the schema based on the JSON structure\n",
    "pin_schema = StructType([\n",
    "    StructField(\"index\", StringType(), True),\n",
    "    StructField(\"unique_id\", StringType(), True),\n",
    "    StructField(\"title\", StringType(), True),\n",
    "    StructField(\"description\", StringType(), True),\n",
    "    StructField(\"poster_name\", StringType(), True),\n",
    "    StructField(\"follower_count\", StringType(), True),\n",
    "    StructField(\"tag_list\", StringType(), True),\n",
    "    StructField(\"is_image_or_video\", StringType(), True),\n",
    "    StructField(\"image_src\", StringType(), True),\n",
    "    StructField(\"downloaded\", StringType(), True),\n",
    "    StructField(\"save_location\", StringType(), True),\n",
    "    StructField(\"category\", StringType(), True)\n",
    "    ])\n",
    "# Extract fields from the JSON string and create separate columns\n",
    "df_pin = df_pin.select(from_json(col(\"data\"), pin_schema).alias(\"data\")).select(\"data.*\")\n",
    "\n",
    "# Replace empty, irrelevant entries with Nones\n",
    "df_pin = df_pin.replace('', None)\n",
    "df_pin = df_pin.replace(' ', None)\n",
    "df_pin = df_pin.replace('nan', None)\n",
    "# Convert follower_count to integer, handling 'k' and 'M' notations\n",
    "df_pin = df_pin.withColumn('follower_count', regexp_replace('follower_count', 'k', '000'))\n",
    "df_pin = df_pin.withColumn('follower_count', regexp_replace('follower_count', 'M', '000000'))\n",
    "df_pin = df_pin.withColumn('follower_count', df_pin['follower_count'].cast('int'))\n",
    "# Clean save_location column by removing 'Local save in' text\n",
    "df_pin = df_pin.withColumn('save_location', regexp_replace('save_location', 'Local save in ', ''))\n",
    "# Rename index column to 'ind' and reorder DataFrame columns\n",
    "df_pin = df_pin.withColumnRenamed('index', 'ind')\n",
    "#Reorder the DataFrame columns to have the following column order:\n",
    "df_pin = df_pin.select('ind', 'unique_id', 'title', 'description', 'follower_count', 'poster_name', 'tag_list', 'is_image_or_video', 'image_src', 'save_location', 'category')\n",
    "display(df_pin.limit(5))"
   ]
  },
  {
   "cell_type": "markdown",
   "metadata": {
    "application/vnd.databricks.v1+cell": {
     "cellMetadata": {
      "byteLimit": 2048000,
      "rowLimit": 10000
     },
     "inputWidgets": {},
     "nuid": "e7d56366-c59a-44c5-b6a4-1e2cb007747b",
     "showTitle": false,
     "title": ""
    }
   },
   "source": [
    "#### Data Cleaning for df_geo"
   ]
  },
  {
   "cell_type": "code",
   "execution_count": 0,
   "metadata": {
    "application/vnd.databricks.v1+cell": {
     "cellMetadata": {
      "byteLimit": 2048000,
      "rowLimit": 10000
     },
     "inputWidgets": {},
     "nuid": "9f849530-e4d5-4aba-aa42-461c02f9a00c",
     "showTitle": false,
     "title": ""
    }
   },
   "outputs": [
    {
     "output_type": "display_data",
     "data": {
      "text/html": [
       "<style scoped>\n",
       "  .table-result-container {\n",
       "    max-height: 300px;\n",
       "    overflow: auto;\n",
       "  }\n",
       "  table, th, td {\n",
       "    border: 1px solid black;\n",
       "    border-collapse: collapse;\n",
       "  }\n",
       "  th, td {\n",
       "    padding: 5px;\n",
       "  }\n",
       "  th {\n",
       "    text-align: left;\n",
       "  }\n",
       "</style><div class='table-result-container'><table class='table-result'><thead style='background-color: white'><tr><th>ind</th><th>country</th><th>coordinates</th><th>timestamp</th></tr></thead><tbody><tr><td>5730</td><td>Colombia</td><td>List(-77.015, -101.437)</td><td>2021-04-19T17:37:03.000+0000</td></tr><tr><td>8304</td><td>French Guiana</td><td>List(-28.8852, -164.87)</td><td>2019-09-13T04:50:29.000+0000</td></tr><tr><td>7554</td><td>Sudan</td><td>List(-51.2172, -77.9768)</td><td>2019-03-20T03:15:07.000+0000</td></tr><tr><td>3156</td><td>Armenia</td><td>List(-84.738, -160.795)</td><td>2018-01-13T19:33:49.000+0000</td></tr><tr><td>2074</td><td>Central African Republic</td><td>List(-52.3213, -50.11)</td><td>2019-11-03T05:41:59.000+0000</td></tr></tbody></table></div>"
      ]
     },
     "metadata": {
      "application/vnd.databricks.v1+output": {
       "addedWidgets": {},
       "aggData": [],
       "aggError": "",
       "aggOverflow": false,
       "aggSchema": [],
       "aggSeriesLimitReached": false,
       "aggType": "",
       "arguments": {},
       "columnCustomDisplayInfos": {},
       "data": [
        [
         "5730",
         "Colombia",
         [
          "-77.015",
          "-101.437"
         ],
         "2021-04-19T17:37:03.000+0000"
        ],
        [
         "8304",
         "French Guiana",
         [
          "-28.8852",
          "-164.87"
         ],
         "2019-09-13T04:50:29.000+0000"
        ],
        [
         "7554",
         "Sudan",
         [
          "-51.2172",
          "-77.9768"
         ],
         "2019-03-20T03:15:07.000+0000"
        ],
        [
         "3156",
         "Armenia",
         [
          "-84.738",
          "-160.795"
         ],
         "2018-01-13T19:33:49.000+0000"
        ],
        [
         "2074",
         "Central African Republic",
         [
          "-52.3213",
          "-50.11"
         ],
         "2019-11-03T05:41:59.000+0000"
        ]
       ],
       "datasetInfos": [],
       "dbfsResultPath": null,
       "isJsonSchema": true,
       "metadata": {
        "isDbfsCommandResult": false
       },
       "overflow": false,
       "plotOptions": {
        "customPlotOptions": {},
        "displayType": "table",
        "pivotAggregation": null,
        "pivotColumns": null,
        "xColumns": null,
        "yColumns": null
       },
       "removedWidgets": [],
       "schema": [
        {
         "metadata": "{}",
         "name": "ind",
         "type": "\"string\""
        },
        {
         "metadata": "{}",
         "name": "country",
         "type": "\"string\""
        },
        {
         "metadata": "{}",
         "name": "coordinates",
         "type": "{\"type\":\"array\",\"elementType\":\"string\",\"containsNull\":true}"
        },
        {
         "metadata": "{}",
         "name": "timestamp",
         "type": "\"timestamp\""
        }
       ],
       "type": "table"
      }
     },
     "output_type": "display_data"
    }
   ],
   "source": [
    "# Take the JSON string and convert into a data frame with the corresponding schema\n",
    "# Define the schema based on the JSON structure\n",
    "geo_schema = StructType([\n",
    "    StructField(\"ind\", StringType(), True),\n",
    "    StructField(\"timestamp\", StringType(), True),\n",
    "    StructField(\"latitude\", StringType(), True),\n",
    "    StructField(\"longitude\", StringType(), True),\n",
    "    StructField(\"country\", StringType(), True)\n",
    "    ])    \n",
    "\n",
    "# Extract fields from the JSON string and create separate columns\n",
    "df_geo = df_geo.select(from_json(col(\"data\"), geo_schema).alias(\"data\")).select(\"data.*\")\n",
    "\n",
    "#Create a new column that contains an array based on the latitude and longitude columns\n",
    "df_geo = df_geo.withColumn('coordinates', array('latitude', 'longitude'))\n",
    "df_geo = df_geo.drop('latitude', 'longitude')\n",
    "#Convert the timestamp column from a string to a timestamp data type\n",
    "df_geo = df_geo.withColumn('timestamp', df_geo['timestamp'].cast('timestamp'))\n",
    "#Reorder the DataFrame columns to have the following column order:\n",
    "df_geo = df_geo.select('ind', 'country', 'coordinates', 'timestamp')\n",
    "display(df_geo.limit(5))"
   ]
  },
  {
   "cell_type": "markdown",
   "metadata": {
    "application/vnd.databricks.v1+cell": {
     "cellMetadata": {
      "byteLimit": 2048000,
      "rowLimit": 10000
     },
     "inputWidgets": {},
     "nuid": "da0f8e21-7a0c-4d0c-b4be-9af585945157",
     "showTitle": false,
     "title": ""
    }
   },
   "source": [
    "#### Data Cleaning for df_user"
   ]
  },
  {
   "cell_type": "code",
   "execution_count": 0,
   "metadata": {
    "application/vnd.databricks.v1+cell": {
     "cellMetadata": {
      "byteLimit": 2048000,
      "rowLimit": 10000
     },
     "inputWidgets": {},
     "nuid": "3125b885-a85d-42b1-8574-1e8e2fa2a124",
     "showTitle": false,
     "title": ""
    }
   },
   "outputs": [
    {
     "output_type": "display_data",
     "data": {
      "text/html": [
       "<style scoped>\n",
       "  .table-result-container {\n",
       "    max-height: 300px;\n",
       "    overflow: auto;\n",
       "  }\n",
       "  table, th, td {\n",
       "    border: 1px solid black;\n",
       "    border-collapse: collapse;\n",
       "  }\n",
       "  th, td {\n",
       "    padding: 5px;\n",
       "  }\n",
       "  th {\n",
       "    text-align: left;\n",
       "  }\n",
       "</style><div class='table-result-container'><table class='table-result'><thead style='background-color: white'><tr><th>ind</th><th>user_name</th><th>age</th><th>date_joined</th></tr></thead><tbody><tr><td>5730</td><td>Rachel Davis</td><td>36</td><td>2015-12-08T20:02:43.000+0000</td></tr><tr><td>8304</td><td>Charles Berry</td><td>25</td><td>2015-12-28T04:21:39.000+0000</td></tr><tr><td>7554</td><td>Cheryl Huerta</td><td>20</td><td>2017-04-11T16:35:33.000+0000</td></tr><tr><td>3156</td><td>Andrew Baker</td><td>22</td><td>2015-12-21T08:06:54.000+0000</td></tr><tr><td>2074</td><td>Annette Forbes</td><td>21</td><td>2016-01-03T15:42:12.000+0000</td></tr></tbody></table></div>"
      ]
     },
     "metadata": {
      "application/vnd.databricks.v1+output": {
       "addedWidgets": {},
       "aggData": [],
       "aggError": "",
       "aggOverflow": false,
       "aggSchema": [],
       "aggSeriesLimitReached": false,
       "aggType": "",
       "arguments": {},
       "columnCustomDisplayInfos": {},
       "data": [
        [
         "5730",
         "Rachel Davis",
         "36",
         "2015-12-08T20:02:43.000+0000"
        ],
        [
         "8304",
         "Charles Berry",
         "25",
         "2015-12-28T04:21:39.000+0000"
        ],
        [
         "7554",
         "Cheryl Huerta",
         "20",
         "2017-04-11T16:35:33.000+0000"
        ],
        [
         "3156",
         "Andrew Baker",
         "22",
         "2015-12-21T08:06:54.000+0000"
        ],
        [
         "2074",
         "Annette Forbes",
         "21",
         "2016-01-03T15:42:12.000+0000"
        ]
       ],
       "datasetInfos": [],
       "dbfsResultPath": null,
       "isJsonSchema": true,
       "metadata": {
        "isDbfsCommandResult": false
       },
       "overflow": false,
       "plotOptions": {
        "customPlotOptions": {},
        "displayType": "table",
        "pivotAggregation": null,
        "pivotColumns": null,
        "xColumns": null,
        "yColumns": null
       },
       "removedWidgets": [],
       "schema": [
        {
         "metadata": "{}",
         "name": "ind",
         "type": "\"string\""
        },
        {
         "metadata": "{}",
         "name": "user_name",
         "type": "\"string\""
        },
        {
         "metadata": "{}",
         "name": "age",
         "type": "\"string\""
        },
        {
         "metadata": "{}",
         "name": "date_joined",
         "type": "\"timestamp\""
        }
       ],
       "type": "table"
      }
     },
     "output_type": "display_data"
    }
   ],
   "source": [
    "# Take the JSON string and convert into a data frame with the corresponding schema\n",
    "# Define the schema based on the JSON structure\n",
    "user_schema = StructType([\n",
    "    StructField(\"ind\", StringType(), True),\n",
    "    StructField(\"first_name\", StringType(), True),\n",
    "    StructField(\"last_name\", StringType(), True),\n",
    "    StructField(\"age\", StringType(), True),\n",
    "    StructField(\"date_joined\", StringType(), True)\n",
    "    ])\n",
    "\n",
    "# Extract fields from the JSON string and create separate columns\n",
    "df_user = df_user.select(from_json(col(\"data\"), user_schema).alias(\"data\")).select(\"data.*\")\n",
    "\n",
    "#Clean the df_user dataframe\n",
    "#Create a new column user_name that concatenates the first_name and last_name columns\n",
    "df_user = df_user.withColumn('user_name', concat(df_user['first_name'], lit(' '), df_user['last_name']))\n",
    "df_user = df_user.drop('first_name', 'last_name')\n",
    "#Convert the date_joined column from a string to a timestamp data type\n",
    "df_user = df_user.withColumn('date_joined', df_user['date_joined'].cast('timestamp'))\n",
    "#Reorder the DataFrame columns to have the following column order:\n",
    "df_user = df_user.select('ind', 'user_name', 'age', 'date_joined')\n",
    "display(df_user.limit(5))"
   ]
  },
  {
   "cell_type": "markdown",
   "metadata": {
    "application/vnd.databricks.v1+cell": {
     "cellMetadata": {
      "byteLimit": 2048000,
      "rowLimit": 10000
     },
     "inputWidgets": {},
     "nuid": "b3ac1b59-25ae-4c99-b477-33d4df5f0f5e",
     "showTitle": false,
     "title": ""
    }
   },
   "source": [
    "#### Save Cleaned Data as Delta Tables\n",
    "\n",
    "The cleaned data is saved as Delta tables. Each of the DataFrames, namely df_pin, df_geo, and df_user, are saved as Delta tables with their respective table names, ensuring that the cleaned data is appropriately stored for future analysis and processing. \n",
    "Previously saved tables are deleted to ensure the data is updated. \n",
    "The option(\"checkpointLocation\", \"/tmp/kinesis/_checkpoints/\") argument specifies the checkpoint location to ensure fault tolerance and data consistency in the event of failures.\n"
   ]
  },
  {
   "cell_type": "code",
   "execution_count": 0,
   "metadata": {
    "application/vnd.databricks.v1+cell": {
     "cellMetadata": {
      "byteLimit": 2048000,
      "rowLimit": 10000
     },
     "inputWidgets": {},
     "nuid": "e0cf7fdd-7eb0-4484-ae20-f25fa56f244a",
     "showTitle": false,
     "title": ""
    }
   },
   "outputs": [
    {
     "output_type": "display_data",
     "data": {
      "text/html": [
       "<style scoped>\n",
       "  .ansiout {\n",
       "    display: block;\n",
       "    unicode-bidi: embed;\n",
       "    white-space: pre-wrap;\n",
       "    word-wrap: break-word;\n",
       "    word-break: break-all;\n",
       "    font-family: \"Source Code Pro\", \"Menlo\", monospace;;\n",
       "    font-size: 13px;\n",
       "    color: #555;\n",
       "    margin-left: 4px;\n",
       "    line-height: 19px;\n",
       "  }\n",
       "</style>\n",
       "<div class=\"ansiout\">Out[127]: &lt;pyspark.sql.streaming.StreamingQuery at 0x7f4c100bf6a0&gt;</div>"
      ]
     },
     "metadata": {
      "application/vnd.databricks.v1+output": {
       "addedWidgets": {},
       "arguments": {},
       "data": "<div class=\"ansiout\">Out[127]: &lt;pyspark.sql.streaming.StreamingQuery at 0x7f4c100bf6a0&gt;</div>",
       "datasetInfos": [],
       "metadata": {},
       "removedWidgets": [],
       "type": "html"
      }
     },
     "output_type": "display_data"
    }
   ],
   "source": [
    "# Delete previous tables\n",
    "dbutils.fs.rm(\"/tmp/kinesis/_checkpoints/\", True)\n",
    " \n",
    "#Save df_pin as Delta table\n",
    "df_pin.writeStream.format(\"delta\").outputMode(\"append\").option(\"checkpointLocation\", \"/tmp/kinesis/_checkpoints/\").table(\"0a48d8473ced_pin_table\")\n",
    "\n",
    "# Save df_geo as Delta table\n",
    "df_geo.writeStream.format(\"delta\").outputMode(\"append\").option(\"checkpointLocation\", \"/tmp/kinesis/_checkpoints/\").table(\"0a48d8473ced_geo_table\")\n",
    "\n",
    "# Save df_user as Delta table\n",
    "df_user.writeStream.format(\"delta\").outputMode(\"append\").option(\"checkpointLocation\", \"/tmp/kinesis/_checkpoints/\").table(\"0a48d8473ced_user_table\")\n"
   ]
  }
 ],
 "metadata": {
  "application/vnd.databricks.v1+notebook": {
   "dashboards": [],
   "language": "python",
   "notebookMetadata": {
    "pythonIndentUnit": 4
   },
   "notebookName": "kinesis_streams",
   "widgets": {}
  }
 },
 "nbformat": 4,
 "nbformat_minor": 0
}
