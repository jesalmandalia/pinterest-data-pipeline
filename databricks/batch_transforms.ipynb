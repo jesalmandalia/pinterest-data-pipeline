{
 "cells": [
  {
   "cell_type": "markdown",
   "metadata": {
    "application/vnd.databricks.v1+cell": {
     "cellMetadata": {
      "byteLimit": 2048000,
      "rowLimit": 10000
     },
     "inputWidgets": {},
     "nuid": "c2e1c91a-879e-48b7-a327-57efc6a1865e",
     "showTitle": false,
     "title": ""
    }
   },
   "source": [
    "## Mounting an S3 drive and Data Analysis with PySpark\n",
    "\n",
    "This PySpark notebook performs data analysis on various datasets retrieved from AWS S3. The datasets include information about Pinterest posts, user demographics, and geolocation data. The code reads and processes these datasets to derive insights such as popular categories, user engagement, geographical trends, and more. "
   ]
  },
  {
   "cell_type": "code",
   "execution_count": null,
   "metadata": {
    "application/vnd.databricks.v1+cell": {
     "cellMetadata": {
      "byteLimit": 2048000,
      "rowLimit": 10000
     },
     "inputWidgets": {},
     "nuid": "8b37c159-449f-4f8a-9c59-bfee7e45bedd",
     "showTitle": false,
     "title": ""
    }
   },
   "outputs": [
    {
     "data": {
      "text/html": [
       "<style scoped>\n",
       "  .ansiout {\n",
       "    display: block;\n",
       "    unicode-bidi: embed;\n",
       "    white-space: pre-wrap;\n",
       "    word-wrap: break-word;\n",
       "    word-break: break-all;\n",
       "    font-family: \"Source Code Pro\", \"Menlo\", monospace;;\n",
       "    font-size: 13px;\n",
       "    color: #555;\n",
       "    margin-left: 4px;\n",
       "    line-height: 19px;\n",
       "  }\n",
       "</style>\n",
       "<div class=\"ansiout\">Out[27]: [FileInfo(path=&#39;dbfs:/FileStore/tables/authentication_credentials.csv&#39;, name=&#39;authentication_credentials.csv&#39;, size=202, modificationTime=1687110999000)]</div>"
      ]
     },
     "metadata": {
      "application/vnd.databricks.v1+output": {
       "addedWidgets": {},
       "arguments": {},
       "data": "<div class=\"ansiout\">Out[27]: [FileInfo(path=&#39;dbfs:/FileStore/tables/authentication_credentials.csv&#39;, name=&#39;authentication_credentials.csv&#39;, size=202, modificationTime=1687110999000)]</div>",
       "datasetInfos": [],
       "metadata": {},
       "removedWidgets": [],
       "type": "html"
      }
     },
     "output_type": "display_data"
    }
   ],
   "source": [
    "dbutils.fs.ls(\"/FileStore/tables\")"
   ]
  },
  {
   "cell_type": "markdown",
   "metadata": {
    "application/vnd.databricks.v1+cell": {
     "cellMetadata": {
      "byteLimit": 2048000,
      "rowLimit": 10000
     },
     "inputWidgets": {},
     "nuid": "36ad402c-e972-467a-81a1-b3913c70a5bd",
     "showTitle": false,
     "title": ""
    }
   },
   "source": [
    "### Mount S3 Drive\n",
    "\n",
    "The first step involves setting up the configuration for AWS access and specifying the necessary details related to the AWS S3 bucket. Following this, the code mounts the AWS S3 drive within the Databricks notebook environment. Mounting the drive allows seamless access and retrieval of data from the designated AWS S3 bucket for subsequent analysis."
   ]
  },
  {
   "cell_type": "code",
   "execution_count": null,
   "metadata": {
    "application/vnd.databricks.v1+cell": {
     "cellMetadata": {
      "byteLimit": 2048000,
      "rowLimit": 10000
     },
     "inputWidgets": {},
     "nuid": "1cf55a66-33c9-4f77-b4dd-fd7161509aa1",
     "showTitle": false,
     "title": ""
    }
   },
   "outputs": [
    {
     "data": {
      "text/html": [
       "<style scoped>\n",
       "  .ansiout {\n",
       "    display: block;\n",
       "    unicode-bidi: embed;\n",
       "    white-space: pre-wrap;\n",
       "    word-wrap: break-word;\n",
       "    word-break: break-all;\n",
       "    font-family: \"Source Code Pro\", \"Menlo\", monospace;;\n",
       "    font-size: 13px;\n",
       "    color: #555;\n",
       "    margin-left: 4px;\n",
       "    line-height: 19px;\n",
       "  }\n",
       "</style>\n",
       "<div class=\"ansiout\"></div>"
      ]
     },
     "metadata": {
      "application/vnd.databricks.v1+output": {
       "addedWidgets": {},
       "arguments": {},
       "data": "<div class=\"ansiout\"></div>",
       "datasetInfos": [],
       "metadata": {},
       "removedWidgets": [],
       "type": "html"
      }
     },
     "output_type": "display_data"
    }
   ],
   "source": [
    "from pyspark.sql.functions import *\n",
    "import urllib# Replace empty, irrelevant entries with Nones\n",
    "\n",
    "file_type = \"csv\"\n",
    "first_row_is_header = \"true\"\n",
    "delimiter = \",\"\n",
    "# Read the CSV file to spark dataframe\n",
    "aws_keys_df = spark.read.format(file_type)\\\n",
    ".option(\"header\", first_row_is_header)\\\n",
    ".option(\"sep\", delimiter)\\\n",
    ".load(\"/FileStore/tables/authentication_credentials.csv\")\n",
    "\n",
    "# Get the AWS access key and secret key from the spark dataframe\n",
    "ACCESS_KEY = aws_keys_df.where(col('User name')=='databricks-user').select('Access key ID').collect()[0]['Access key ID']\n",
    "SECRET_KEY = aws_keys_df.where(col('User name')=='databricks-user').select('Secret access key').collect()[0]['Secret access key']\n",
    "ENCODED_SECRET_KEY = urllib.parse.quote(string=SECRET_KEY, safe=\"\")\n",
    "AWS_S3_BUCKET = \"user-0a48d8473ced-bucket\"\n",
    "MOUNT_NAME = \"/mnt/user-1a48d8473ced-bucket\"\n",
    "SOURCE_URL = \"s2n://{0}:{1}@{2}\".format(ACCESS_KEY, ENCODED_SECRET_KEY, AWS_S3_BUCKET)\n",
    "# Mount the drive\n",
    "#dbutils.fs.mount(SOURCE_URL, MOUNT_NAME) #Only need to mount the drive once"
   ]
  },
  {
   "cell_type": "code",
   "execution_count": null,
   "metadata": {
    "application/vnd.databricks.v1+cell": {
     "cellMetadata": {
      "byteLimit": 2048000,
      "rowLimit": 10000
     },
     "inputWidgets": {},
     "nuid": "c2cfc186-9e90-4015-862a-b9ba1b5382d7",
     "showTitle": false,
     "title": ""
    }
   },
   "outputs": [
    {
     "data": {
      "text/html": [
       "<style scoped>\n",
       "  .table-result-container {\n",
       "    max-height: 300px;\n",
       "    overflow: auto;\n",
       "  }\n",
       "  table, th, td {\n",
       "    border: 1px solid black;\n",
       "    border-collapse: collapse;\n",
       "  }\n",
       "  th, td {\n",
       "    padding: 5px;\n",
       "  }\n",
       "  th {\n",
       "    text-align: left;\n",
       "  }\n",
       "</style><div class='table-result-container'><table class='table-result'><thead style='background-color: white'><tr><th>path</th><th>name</th><th>size</th><th>modificationTime</th></tr></thead><tbody><tr><td>dbfs:/FileStore/</td><td>FileStore/</td><td>0</td><td>1697799066425</td></tr><tr><td>dbfs:/Volume/</td><td>Volume/</td><td>0</td><td>0</td></tr><tr><td>dbfs:/Volumes/</td><td>Volumes/</td><td>0</td><td>0</td></tr><tr><td>dbfs:/databricks-datasets/</td><td>databricks-datasets/</td><td>0</td><td>0</td></tr><tr><td>dbfs:/databricks-results/</td><td>databricks-results/</td><td>0</td><td>0</td></tr><tr><td>dbfs:/delta/</td><td>delta/</td><td>0</td><td>1697799066425</td></tr><tr><td>dbfs:/df_pin.csv/</td><td>df_pin.csv/</td><td>0</td><td>1697799066425</td></tr><tr><td>dbfs:/local_disk0/</td><td>local_disk0/</td><td>0</td><td>1697799066425</td></tr><tr><td>dbfs:/mnt/</td><td>mnt/</td><td>0</td><td>1697799066425</td></tr><tr><td>dbfs:/pin_kinesis_events/</td><td>pin_kinesis_events/</td><td>0</td><td>1697799066425</td></tr><tr><td>dbfs:/tmp/</td><td>tmp/</td><td>0</td><td>1697799066425</td></tr><tr><td>dbfs:/user/</td><td>user/</td><td>0</td><td>1697799066425</td></tr><tr><td>dbfs:/volume/</td><td>volume/</td><td>0</td><td>0</td></tr><tr><td>dbfs:/volumes/</td><td>volumes/</td><td>0</td><td>0</td></tr></tbody></table></div>"
      ]
     },
     "metadata": {
      "application/vnd.databricks.v1+output": {
       "addedWidgets": {},
       "aggData": [],
       "aggError": "",
       "aggOverflow": false,
       "aggSchema": [],
       "aggSeriesLimitReached": false,
       "aggType": "",
       "arguments": {},
       "columnCustomDisplayInfos": {},
       "data": [
        [
         "dbfs:/FileStore/",
         "FileStore/",
         0,
         1697799066425
        ],
        [
         "dbfs:/Volume/",
         "Volume/",
         0,
         0
        ],
        [
         "dbfs:/Volumes/",
         "Volumes/",
         0,
         0
        ],
        [
         "dbfs:/databricks-datasets/",
         "databricks-datasets/",
         0,
         0
        ],
        [
         "dbfs:/databricks-results/",
         "databricks-results/",
         0,
         0
        ],
        [
         "dbfs:/delta/",
         "delta/",
         0,
         1697799066425
        ],
        [
         "dbfs:/df_pin.csv/",
         "df_pin.csv/",
         0,
         1697799066425
        ],
        [
         "dbfs:/local_disk0/",
         "local_disk0/",
         0,
         1697799066425
        ],
        [
         "dbfs:/mnt/",
         "mnt/",
         0,
         1697799066425
        ],
        [
         "dbfs:/pin_kinesis_events/",
         "pin_kinesis_events/",
         0,
         1697799066425
        ],
        [
         "dbfs:/tmp/",
         "tmp/",
         0,
         1697799066425
        ],
        [
         "dbfs:/user/",
         "user/",
         0,
         1697799066425
        ],
        [
         "dbfs:/volume/",
         "volume/",
         0,
         0
        ],
        [
         "dbfs:/volumes/",
         "volumes/",
         0,
         0
        ]
       ],
       "datasetInfos": [],
       "dbfsResultPath": null,
       "isJsonSchema": true,
       "metadata": {},
       "overflow": false,
       "plotOptions": {
        "customPlotOptions": {},
        "displayType": "table",
        "pivotAggregation": null,
        "pivotColumns": null,
        "xColumns": null,
        "yColumns": null
       },
       "removedWidgets": [],
       "schema": [
        {
         "metadata": "{}",
         "name": "path",
         "type": "\"string\""
        },
        {
         "metadata": "{}",
         "name": "name",
         "type": "\"string\""
        },
        {
         "metadata": "{}",
         "name": "size",
         "type": "\"long\""
        },
        {
         "metadata": "{}",
         "name": "modificationTime",
         "type": "\"long\""
        }
       ],
       "type": "table"
      }
     },
     "output_type": "display_data"
    }
   ],
   "source": [
    "# Display the content of the mounted directory\n",
    "display(dbutils.fs.ls(\"/mnt/user-0a48d8473ced-bucket/../..\"))"
   ]
  },
  {
   "cell_type": "markdown",
   "metadata": {
    "application/vnd.databricks.v1+cell": {
     "cellMetadata": {
      "byteLimit": 2048000,
      "rowLimit": 10000
     },
     "inputWidgets": {},
     "nuid": "b748f027-babe-4231-a8bb-57a1dda38901",
     "showTitle": false,
     "title": ""
    }
   },
   "source": [
    "### Data Retrieval from JSON Files\n",
    "\n",
    "The next block of code retrieves JSON data from specified file locations in the mounted AWS S3 bucket. The asterisk (*) denotes that all JSON files in the designated directories are being read into Spark DataFrames. By leveraging schema inference, the code automatically detects the structure of the JSON data, ensuring efficient data loading. "
   ]
  },
  {
   "cell_type": "code",
   "execution_count": null,
   "metadata": {
    "application/vnd.databricks.v1+cell": {
     "cellMetadata": {
      "byteLimit": 2048000,
      "rowLimit": 10000
     },
     "inputWidgets": {},
     "nuid": "918b0786-13d5-44a0-aab5-c35e00c3f27a",
     "showTitle": false,
     "title": ""
    }
   },
   "outputs": [
    {
     "data": {
      "text/html": [
       "<style scoped>\n",
       "  .table-result-container {\n",
       "    max-height: 300px;\n",
       "    overflow: auto;\n",
       "  }\n",
       "  table, th, td {\n",
       "    border: 1px solid black;\n",
       "    border-collapse: collapse;\n",
       "  }\n",
       "  th, td {\n",
       "    padding: 5px;\n",
       "  }\n",
       "  th {\n",
       "    text-align: left;\n",
       "  }\n",
       "</style><div class='table-result-container'><table class='table-result'><thead style='background-color: white'><tr><th>category</th><th>description</th><th>downloaded</th><th>follower_count</th><th>image_src</th><th>index</th><th>is_image_or_video</th><th>poster_name</th><th>save_location</th><th>tag_list</th><th>title</th><th>unique_id</th></tr></thead><tbody><tr><td>event-planning</td><td>Το όνομα που επέλεξε η μαμά Ανδριανή για τη γλυκιά Τιτίκα δεν είναι καθόλου τυχαίο. Και φυσικά δεν άφησε τίποτα στην τύχη ούτε την ημέρα της βάπτισης. Ανέθεσε την οργάνωση στην… </td><td>1</td><td>4</td><td>https://i.pinimg.com/originals/db/aa/d2/dbaad28fa85012a4ea6958540d98a8e5.jpg</td><td>4387</td><td>image</td><td>Manosbojana Katsareas</td><td>Local save in /data/event-planning</td><td>Diy Flowers,Flower Diy,Baptism Decorations,Christening,Event Planning,Wedding Planner,Baptism Ideas,Birthday,Party</td><td>Βάπτιση: H παραμυθένια βάπτιση της Τιτίκας με θέμα το μονόκερο από την e.m. for you</td><td>ae5e7377-f1bd-4ac5-94de-bee317f51a43</td></tr><tr><td>home-decor</td><td>Традиционные шведские коттеджи, обычно с красным фасадом — это настоящее воплощением идеального зимнего уюта. Они обычно оформлены очень просто и ✌PUFIK. Beautiful Interiors. On… </td><td>1</td><td>136k</td><td>https://i.pinimg.com/originals/32/eb/72/32eb72e4fd8654c115a64528bd1f34b4.png</td><td>6717</td><td>image</td><td>PUFIK Interiors & Inspirations</td><td>Local save in /data/home-decor</td><td>Scandinavian Cottage,Swedish Cottage,Swedish Home Decor,Swedish Farmhouse,Swedish Style,Swedish Kitchen,Kitchen Black,Swedish House,Cozy Cottage</td><td>〚 Уютные шведские коттеджи от Carina Olander 〛 ◾ Фото ◾ Идеи ◾ Дизайн</td><td>bc5ab9ee-505e-44f6-92ba-677fe4fdf3e3</td></tr><tr><td>event-planning</td><td>15.1k Likes, 83 Comments - THE EVENT COLLECTIVE ✖️ (@theeventcollectivex) on Instagram: “I’ve always loved emerald green 🌲 by @a.purnellproduction Beautiful balloons by…”</td><td>1</td><td>311</td><td>https://i.pinimg.com/originals/91/0b/5c/910b5c120f7d1570ffc840302d7b49f4.jpg</td><td>4858</td><td>image</td><td>Marie Bradford</td><td>Local save in /data/event-planning</td><td>Diy Birthday Decorations,Balloon Decorations,Table Decorations,Emerald Green Decor,40th Birthday Parties,24th Birthday,Surprise Birthday,Brunch Decor,Quinceanera Themes</td><td>THE EVENT COLLECTIVE ✖️ on Instagram: “I’ve always loved emerald green 🌲 by @a.purnellproduction Beautiful balloons by @basicallycuteevents  @inspiredengravings for the acrylic…”</td><td>58101415-9273-4311-a5bd-0015a56579b4</td></tr><tr><td>event-planning</td><td>Wow your guests! Our backdrops are a great option for providing a personalized, stylish and fun addition to your party .It will be the focal point in any event! They are great a… </td><td>1</td><td>1k</td><td>https://i.pinimg.com/originals/15/1f/93/151f93d662dc158ca2c9bbfed198f556.jpg</td><td>4608</td><td>image</td><td>Iconica Design | Personalized Event Decor, Stationery & Gifts</td><td>Local save in /data/event-planning</td><td>Christmas Party Backdrop,Holiday Banner,Birthday Backdrop,Circus First Birthday,First Birthday Banners,Dinasour Birthday,Birthday Bash,Banner Backdrop,Photo Booth Backdrop</td><td>Virtual Baby Shower Little Man Baby Shower Banner, Mustache Baby Shower Backdrop, Oh Boy, Any Color,  Printed Or Printable File BBS0035 - 10x8 ft / Top Pole Pocket</td><td>d234e56f-5b18-4ef3-905b-44103f7719d9</td></tr><tr><td>home-decor</td><td>6,636 Likes, 141 Comments - The Cottage Journal (@thecottagejournal) on Instagram: “Can you say color?! 😍😍😍 We are loving the cheery vibes that these aqua blue cabinets are g… </td><td>1</td><td>394</td><td>https://i.pinimg.com/originals/8c/17/a2/8c17a257b70780480bb89c3699363144.jpg</td><td>6633</td><td>image</td><td>Sarah Martin</td><td>Local save in /data/home-decor</td><td>Diy Kitchen Cabinets,Kitchen Redo,Home Decor Kitchen,New Kitchen,Home Kitchens,Kitchen Remodeling,Aqua Kitchen,Kitchen Counters,Kitchen Islands</td><td>The Cottage Journal on Instagram: “Can you say color?! 😍😍😍 We are loving the cheery vibes that these aqua blue cabinets are giving. If you could paint your cabinets any…”</td><td>d136f6bc-840d-44f8-bbad-115eb7e6c51e</td></tr></tbody></table></div>"
      ]
     },
     "metadata": {
      "application/vnd.databricks.v1+output": {
       "addedWidgets": {},
       "aggData": [],
       "aggError": "",
       "aggOverflow": false,
       "aggSchema": [],
       "aggSeriesLimitReached": false,
       "aggType": "",
       "arguments": {},
       "columnCustomDisplayInfos": {},
       "data": [
        [
         "event-planning",
         "Το όνομα που επέλεξε η μαμά Ανδριανή για τη γλυκιά Τιτίκα δεν είναι καθόλου τυχαίο. Και φυσικά δεν άφησε τίποτα στην τύχη ούτε την ημέρα της βάπτισης. Ανέθεσε την οργάνωση στην… ",
         1,
         "4",
         "https://i.pinimg.com/originals/db/aa/d2/dbaad28fa85012a4ea6958540d98a8e5.jpg",
         4387,
         "image",
         "Manosbojana Katsareas",
         "Local save in /data/event-planning",
         "Diy Flowers,Flower Diy,Baptism Decorations,Christening,Event Planning,Wedding Planner,Baptism Ideas,Birthday,Party",
         "Βάπτιση: H παραμυθένια βάπτιση της Τιτίκας με θέμα το μονόκερο από την e.m. for you",
         "ae5e7377-f1bd-4ac5-94de-bee317f51a43"
        ],
        [
         "home-decor",
         "Традиционные шведские коттеджи, обычно с красным фасадом — это настоящее воплощением идеального зимнего уюта. Они обычно оформлены очень просто и ✌PUFIK. Beautiful Interiors. On… ",
         1,
         "136k",
         "https://i.pinimg.com/originals/32/eb/72/32eb72e4fd8654c115a64528bd1f34b4.png",
         6717,
         "image",
         "PUFIK Interiors & Inspirations",
         "Local save in /data/home-decor",
         "Scandinavian Cottage,Swedish Cottage,Swedish Home Decor,Swedish Farmhouse,Swedish Style,Swedish Kitchen,Kitchen Black,Swedish House,Cozy Cottage",
         "〚 Уютные шведские коттеджи от Carina Olander 〛 ◾ Фото ◾ Идеи ◾ Дизайн",
         "bc5ab9ee-505e-44f6-92ba-677fe4fdf3e3"
        ],
        [
         "event-planning",
         "15.1k Likes, 83 Comments - THE EVENT COLLECTIVE ✖️ (@theeventcollectivex) on Instagram: “I’ve always loved emerald green 🌲 by @a.purnellproduction Beautiful balloons by…”",
         1,
         "311",
         "https://i.pinimg.com/originals/91/0b/5c/910b5c120f7d1570ffc840302d7b49f4.jpg",
         4858,
         "image",
         "Marie Bradford",
         "Local save in /data/event-planning",
         "Diy Birthday Decorations,Balloon Decorations,Table Decorations,Emerald Green Decor,40th Birthday Parties,24th Birthday,Surprise Birthday,Brunch Decor,Quinceanera Themes",
         "THE EVENT COLLECTIVE ✖️ on Instagram: “I’ve always loved emerald green 🌲 by @a.purnellproduction Beautiful balloons by @basicallycuteevents  @inspiredengravings for the acrylic…”",
         "58101415-9273-4311-a5bd-0015a56579b4"
        ],
        [
         "event-planning",
         "Wow your guests! Our backdrops are a great option for providing a personalized, stylish and fun addition to your party .It will be the focal point in any event! They are great a… ",
         1,
         "1k",
         "https://i.pinimg.com/originals/15/1f/93/151f93d662dc158ca2c9bbfed198f556.jpg",
         4608,
         "image",
         "Iconica Design | Personalized Event Decor, Stationery & Gifts",
         "Local save in /data/event-planning",
         "Christmas Party Backdrop,Holiday Banner,Birthday Backdrop,Circus First Birthday,First Birthday Banners,Dinasour Birthday,Birthday Bash,Banner Backdrop,Photo Booth Backdrop",
         "Virtual Baby Shower Little Man Baby Shower Banner, Mustache Baby Shower Backdrop, Oh Boy, Any Color,  Printed Or Printable File BBS0035 - 10x8 ft / Top Pole Pocket",
         "d234e56f-5b18-4ef3-905b-44103f7719d9"
        ],
        [
         "home-decor",
         "6,636 Likes, 141 Comments - The Cottage Journal (@thecottagejournal) on Instagram: “Can you say color?! 😍😍😍 We are loving the cheery vibes that these aqua blue cabinets are g… ",
         1,
         "394",
         "https://i.pinimg.com/originals/8c/17/a2/8c17a257b70780480bb89c3699363144.jpg",
         6633,
         "image",
         "Sarah Martin",
         "Local save in /data/home-decor",
         "Diy Kitchen Cabinets,Kitchen Redo,Home Decor Kitchen,New Kitchen,Home Kitchens,Kitchen Remodeling,Aqua Kitchen,Kitchen Counters,Kitchen Islands",
         "The Cottage Journal on Instagram: “Can you say color?! 😍😍😍 We are loving the cheery vibes that these aqua blue cabinets are giving. If you could paint your cabinets any…”",
         "d136f6bc-840d-44f8-bbad-115eb7e6c51e"
        ]
       ],
       "datasetInfos": [],
       "dbfsResultPath": null,
       "isJsonSchema": true,
       "metadata": {},
       "overflow": false,
       "plotOptions": {
        "customPlotOptions": {},
        "displayType": "table",
        "pivotAggregation": null,
        "pivotColumns": null,
        "xColumns": null,
        "yColumns": null
       },
       "removedWidgets": [],
       "schema": [
        {
         "metadata": "{}",
         "name": "category",
         "type": "\"string\""
        },
        {
         "metadata": "{}",
         "name": "description",
         "type": "\"string\""
        },
        {
         "metadata": "{}",
         "name": "downloaded",
         "type": "\"long\""
        },
        {
         "metadata": "{}",
         "name": "follower_count",
         "type": "\"string\""
        },
        {
         "metadata": "{}",
         "name": "image_src",
         "type": "\"string\""
        },
        {
         "metadata": "{}",
         "name": "index",
         "type": "\"long\""
        },
        {
         "metadata": "{}",
         "name": "is_image_or_video",
         "type": "\"string\""
        },
        {
         "metadata": "{}",
         "name": "poster_name",
         "type": "\"string\""
        },
        {
         "metadata": "{}",
         "name": "save_location",
         "type": "\"string\""
        },
        {
         "metadata": "{}",
         "name": "tag_list",
         "type": "\"string\""
        },
        {
         "metadata": "{}",
         "name": "title",
         "type": "\"string\""
        },
        {
         "metadata": "{}",
         "name": "unique_id",
         "type": "\"string\""
        }
       ],
       "type": "table"
      }
     },
     "output_type": "display_data"
    },
    {
     "data": {
      "text/html": [
       "<style scoped>\n",
       "  .table-result-container {\n",
       "    max-height: 300px;\n",
       "    overflow: auto;\n",
       "  }\n",
       "  table, th, td {\n",
       "    border: 1px solid black;\n",
       "    border-collapse: collapse;\n",
       "  }\n",
       "  th, td {\n",
       "    padding: 5px;\n",
       "  }\n",
       "  th {\n",
       "    text-align: left;\n",
       "  }\n",
       "</style><div class='table-result-container'><table class='table-result'><thead style='background-color: white'><tr><th>country</th><th>ind</th><th>latitude</th><th>longitude</th><th>timestamp</th></tr></thead><tbody><tr><td>British Indian Ocean Territory (Chagos Archipelago)</td><td>9455</td><td>-82.9272</td><td>-150.346</td><td>2022-03-15 01:46:32</td></tr><tr><td>British Indian Ocean Territory (Chagos Archipelago)</td><td>6814</td><td>-86.5675</td><td>-149.565</td><td>2022-09-02 11:34:28</td></tr><tr><td>British Indian Ocean Territory (Chagos Archipelago)</td><td>7151</td><td>-14.6744</td><td>-75.3714</td><td>2020-06-05 23:37:24</td></tr><tr><td>British Indian Ocean Territory (Chagos Archipelago)</td><td>8221</td><td>-20.5574</td><td>-54.4834</td><td>2021-12-29 06:33:46</td></tr><tr><td>British Indian Ocean Territory (Chagos Archipelago)</td><td>7569</td><td>-86.5675</td><td>-149.565</td><td>2018-10-16 08:40:26</td></tr></tbody></table></div>"
      ]
     },
     "metadata": {
      "application/vnd.databricks.v1+output": {
       "addedWidgets": {},
       "aggData": [],
       "aggError": "",
       "aggOverflow": false,
       "aggSchema": [],
       "aggSeriesLimitReached": false,
       "aggType": "",
       "arguments": {},
       "columnCustomDisplayInfos": {},
       "data": [
        [
         "British Indian Ocean Territory (Chagos Archipelago)",
         9455,
         -82.9272,
         -150.346,
         "2022-03-15 01:46:32"
        ],
        [
         "British Indian Ocean Territory (Chagos Archipelago)",
         6814,
         -86.5675,
         -149.565,
         "2022-09-02 11:34:28"
        ],
        [
         "British Indian Ocean Territory (Chagos Archipelago)",
         7151,
         -14.6744,
         -75.3714,
         "2020-06-05 23:37:24"
        ],
        [
         "British Indian Ocean Territory (Chagos Archipelago)",
         8221,
         -20.5574,
         -54.4834,
         "2021-12-29 06:33:46"
        ],
        [
         "British Indian Ocean Territory (Chagos Archipelago)",
         7569,
         -86.5675,
         -149.565,
         "2018-10-16 08:40:26"
        ]
       ],
       "datasetInfos": [],
       "dbfsResultPath": null,
       "isJsonSchema": true,
       "metadata": {},
       "overflow": false,
       "plotOptions": {
        "customPlotOptions": {},
        "displayType": "table",
        "pivotAggregation": null,
        "pivotColumns": null,
        "xColumns": null,
        "yColumns": null
       },
       "removedWidgets": [],
       "schema": [
        {
         "metadata": "{}",
         "name": "country",
         "type": "\"string\""
        },
        {
         "metadata": "{}",
         "name": "ind",
         "type": "\"long\""
        },
        {
         "metadata": "{}",
         "name": "latitude",
         "type": "\"double\""
        },
        {
         "metadata": "{}",
         "name": "longitude",
         "type": "\"double\""
        },
        {
         "metadata": "{}",
         "name": "timestamp",
         "type": "\"string\""
        }
       ],
       "type": "table"
      }
     },
     "output_type": "display_data"
    },
    {
     "data": {
      "text/html": [
       "<style scoped>\n",
       "  .table-result-container {\n",
       "    max-height: 300px;\n",
       "    overflow: auto;\n",
       "  }\n",
       "  table, th, td {\n",
       "    border: 1px solid black;\n",
       "    border-collapse: collapse;\n",
       "  }\n",
       "  th, td {\n",
       "    padding: 5px;\n",
       "  }\n",
       "  th {\n",
       "    text-align: left;\n",
       "  }\n",
       "</style><div class='table-result-container'><table class='table-result'><thead style='background-color: white'><tr><th>age</th><th>date_joined</th><th>first_name</th><th>ind</th><th>last_name</th></tr></thead><tbody><tr><td>42</td><td>2017-02-18 00:31:22</td><td>Christopher</td><td>6353</td><td>Hernandez</td></tr><tr><td>27</td><td>2016-03-08 13:38:37</td><td>Christopher</td><td>2015</td><td>Bradshaw</td></tr><tr><td>59</td><td>2017-05-12 21:22:17</td><td>Alexander</td><td>10673</td><td>Cervantes</td></tr><tr><td>48</td><td>2016-02-27 16:57:44</td><td>Christopher</td><td>1857</td><td>Hamilton</td></tr><tr><td>45</td><td>2016-09-15 06:02:53</td><td>Christopher</td><td>10020</td><td>Hawkins</td></tr></tbody></table></div>"
      ]
     },
     "metadata": {
      "application/vnd.databricks.v1+output": {
       "addedWidgets": {},
       "aggData": [],
       "aggError": "",
       "aggOverflow": false,
       "aggSchema": [],
       "aggSeriesLimitReached": false,
       "aggType": "",
       "arguments": {},
       "columnCustomDisplayInfos": {},
       "data": [
        [
         42,
         "2017-02-18 00:31:22",
         "Christopher",
         6353,
         "Hernandez"
        ],
        [
         27,
         "2016-03-08 13:38:37",
         "Christopher",
         2015,
         "Bradshaw"
        ],
        [
         59,
         "2017-05-12 21:22:17",
         "Alexander",
         10673,
         "Cervantes"
        ],
        [
         48,
         "2016-02-27 16:57:44",
         "Christopher",
         1857,
         "Hamilton"
        ],
        [
         45,
         "2016-09-15 06:02:53",
         "Christopher",
         10020,
         "Hawkins"
        ]
       ],
       "datasetInfos": [],
       "dbfsResultPath": null,
       "isJsonSchema": true,
       "metadata": {},
       "overflow": false,
       "plotOptions": {
        "customPlotOptions": {},
        "displayType": "table",
        "pivotAggregation": null,
        "pivotColumns": null,
        "xColumns": null,
        "yColumns": null
       },
       "removedWidgets": [],
       "schema": [
        {
         "metadata": "{}",
         "name": "age",
         "type": "\"long\""
        },
        {
         "metadata": "{}",
         "name": "date_joined",
         "type": "\"string\""
        },
        {
         "metadata": "{}",
         "name": "first_name",
         "type": "\"string\""
        },
        {
         "metadata": "{}",
         "name": "ind",
         "type": "\"long\""
        },
        {
         "metadata": "{}",
         "name": "last_name",
         "type": "\"string\""
        }
       ],
       "type": "table"
      }
     },
     "output_type": "display_data"
    }
   ],
   "source": [
    "# Function to read in jsons from mounted S3 bucket\n",
    "def read_from_s3(file_location, file_type, infer_schema):\n",
    "  return spark.read.format(file_type) \\\n",
    "  .option(\"inferSchema\", infer_schema) \\\n",
    "  .load(file_location)\n",
    "\n",
    "# Asterisk(*) indicates reading all the content of the specified file that have .json extension\n",
    "file_location_pin = \"/mnt/user-0a48d8473ced-bucket/topics/0a48d8473ced.pin/partition=0/*.json\"\n",
    "file_location_geo = \"/mnt/user-0a48d8473ced-bucket/topics/0a48d8473ced.geo/partition=0/*.json\" \n",
    "file_location_user = \"/mnt/user-0a48d8473ced-bucket/topics/0a48d8473ced.user/partition=0/*.json\" \n",
    "\n",
    "file_type = \"json\"\n",
    "# Ask Spark to infer the schema\n",
    "infer_schema = \"true\"\n",
    "\n",
    "# Read in JSONs from mounted S3 bucket\n",
    "df_pin = read_from_s3(file_location_pin, file_type, infer_schema)\n",
    "df_geo = read_from_s3(file_location_geo, file_type, infer_schema)\n",
    "df_user = read_from_s3(file_location_user, file_type, infer_schema)\n",
    "\n",
    "\n",
    "# Display Spark dataframe to check its content\n",
    "display(df_pin.limit(5))\n",
    "display(df_geo.limit(5))\n",
    "display(df_user.limit(5))"
   ]
  },
  {
   "cell_type": "markdown",
   "metadata": {
    "application/vnd.databricks.v1+cell": {
     "cellMetadata": {
      "byteLimit": 2048000,
      "rowLimit": 10000
     },
     "inputWidgets": {},
     "nuid": "304ecbf8-103f-4425-9781-688c58de5be2",
     "showTitle": false,
     "title": ""
    }
   },
   "source": [
    "### Data Cleaning\n",
    "\n",
    "The following code snippets demonstrates the data cleaning process for the DataFrames. These operations contribute to ensuring the quality and consistency of the data within the DataFrames. This is in preparation for subsequent analysis and processing."
   ]
  },
  {
   "cell_type": "markdown",
   "metadata": {
    "application/vnd.databricks.v1+cell": {
     "cellMetadata": {
      "byteLimit": 2048000,
      "rowLimit": 10000
     },
     "inputWidgets": {},
     "nuid": "ec2c692d-e4c6-4573-9180-45f8b65e8e17",
     "showTitle": false,
     "title": ""
    }
   },
   "source": [
    "#### Data Cleaning for df_pin"
   ]
  },
  {
   "cell_type": "code",
   "execution_count": null,
   "metadata": {
    "application/vnd.databricks.v1+cell": {
     "cellMetadata": {
      "byteLimit": 2048000,
      "rowLimit": 10000
     },
     "inputWidgets": {},
     "nuid": "556d16df-d43f-4df3-9182-b42343df1d41",
     "showTitle": false,
     "title": ""
    }
   },
   "outputs": [
    {
     "data": {
      "text/html": [
       "<style scoped>\n",
       "  .table-result-container {\n",
       "    max-height: 300px;\n",
       "    overflow: auto;\n",
       "  }\n",
       "  table, th, td {\n",
       "    border: 1px solid black;\n",
       "    border-collapse: collapse;\n",
       "  }\n",
       "  th, td {\n",
       "    padding: 5px;\n",
       "  }\n",
       "  th {\n",
       "    text-align: left;\n",
       "  }\n",
       "</style><div class='table-result-container'><table class='table-result'><thead style='background-color: white'><tr><th>ind</th><th>unique_id</th><th>title</th><th>description</th><th>follower_count</th><th>poster_name</th><th>tag_list</th><th>is_image_or_video</th><th>image_src</th><th>save_location</th><th>category</th></tr></thead><tbody><tr><td>4387</td><td>ae5e7377-f1bd-4ac5-94de-bee317f51a43</td><td>Βάπτιση: H παραμυθένια βάπτιση της Τιτίκας με θέμα το μονόκερο από την e.m. for you</td><td>Το όνομα που επέλεξε η μαμά Ανδριανή για τη γλυκιά Τιτίκα δεν είναι καθόλου τυχαίο. Και φυσικά δεν άφησε τίποτα στην τύχη ούτε την ημέρα της βάπτισης. Ανέθεσε την οργάνωση στην… </td><td>4</td><td>Manosbojana Katsareas</td><td>Diy Flowers,Flower Diy,Baptism Decorations,Christening,Event Planning,Wedding Planner,Baptism Ideas,Birthday,Party</td><td>image</td><td>https://i.pinimg.com/originals/db/aa/d2/dbaad28fa85012a4ea6958540d98a8e5.jpg</td><td>/data/event-planning</td><td>event-planning</td></tr><tr><td>6717</td><td>bc5ab9ee-505e-44f6-92ba-677fe4fdf3e3</td><td>〚 Уютные шведские коттеджи от Carina Olander 〛 ◾ Фото ◾ Идеи ◾ Дизайн</td><td>Традиционные шведские коттеджи, обычно с красным фасадом — это настоящее воплощением идеального зимнего уюта. Они обычно оформлены очень просто и ✌PUFIK. Beautiful Interiors. On… </td><td>136000</td><td>PUFIK Interiors & Inspirations</td><td>Scandinavian Cottage,Swedish Cottage,Swedish Home Decor,Swedish Farmhouse,Swedish Style,Swedish Kitchen,Kitchen Black,Swedish House,Cozy Cottage</td><td>image</td><td>https://i.pinimg.com/originals/32/eb/72/32eb72e4fd8654c115a64528bd1f34b4.png</td><td>/data/home-decor</td><td>home-decor</td></tr><tr><td>4858</td><td>58101415-9273-4311-a5bd-0015a56579b4</td><td>THE EVENT COLLECTIVE ✖️ on Instagram: “I’ve always loved emerald green 🌲 by @a.purnellproduction Beautiful balloons by @basicallycuteevents  @inspiredengravings for the acrylic…”</td><td>15.1k Likes, 83 Comments - THE EVENT COLLECTIVE ✖️ (@theeventcollectivex) on Instagram: “I’ve always loved emerald green 🌲 by @a.purnellproduction Beautiful balloons by…”</td><td>311</td><td>Marie Bradford</td><td>Diy Birthday Decorations,Balloon Decorations,Table Decorations,Emerald Green Decor,40th Birthday Parties,24th Birthday,Surprise Birthday,Brunch Decor,Quinceanera Themes</td><td>image</td><td>https://i.pinimg.com/originals/91/0b/5c/910b5c120f7d1570ffc840302d7b49f4.jpg</td><td>/data/event-planning</td><td>event-planning</td></tr><tr><td>4608</td><td>d234e56f-5b18-4ef3-905b-44103f7719d9</td><td>Virtual Baby Shower Little Man Baby Shower Banner, Mustache Baby Shower Backdrop, Oh Boy, Any Color,  Printed Or Printable File BBS0035 - 10x8 ft / Top Pole Pocket</td><td>Wow your guests! Our backdrops are a great option for providing a personalized, stylish and fun addition to your party .It will be the focal point in any event! They are great a… </td><td>1000</td><td>Iconica Design | Personalized Event Decor, Stationery & Gifts</td><td>Christmas Party Backdrop,Holiday Banner,Birthday Backdrop,Circus First Birthday,First Birthday Banners,Dinasour Birthday,Birthday Bash,Banner Backdrop,Photo Booth Backdrop</td><td>image</td><td>https://i.pinimg.com/originals/15/1f/93/151f93d662dc158ca2c9bbfed198f556.jpg</td><td>/data/event-planning</td><td>event-planning</td></tr><tr><td>6633</td><td>d136f6bc-840d-44f8-bbad-115eb7e6c51e</td><td>The Cottage Journal on Instagram: “Can you say color?! 😍😍😍 We are loving the cheery vibes that these aqua blue cabinets are giving. If you could paint your cabinets any…”</td><td>6,636 Likes, 141 Comments - The Cottage Journal (@thecottagejournal) on Instagram: “Can you say color?! 😍😍😍 We are loving the cheery vibes that these aqua blue cabinets are g… </td><td>394</td><td>Sarah Martin</td><td>Diy Kitchen Cabinets,Kitchen Redo,Home Decor Kitchen,New Kitchen,Home Kitchens,Kitchen Remodeling,Aqua Kitchen,Kitchen Counters,Kitchen Islands</td><td>image</td><td>https://i.pinimg.com/originals/8c/17/a2/8c17a257b70780480bb89c3699363144.jpg</td><td>/data/home-decor</td><td>home-decor</td></tr></tbody></table></div>"
      ]
     },
     "metadata": {
      "application/vnd.databricks.v1+output": {
       "addedWidgets": {},
       "aggData": [],
       "aggError": "",
       "aggOverflow": false,
       "aggSchema": [],
       "aggSeriesLimitReached": false,
       "aggType": "",
       "arguments": {},
       "columnCustomDisplayInfos": {},
       "data": [
        [
         4387,
         "ae5e7377-f1bd-4ac5-94de-bee317f51a43",
         "Βάπτιση: H παραμυθένια βάπτιση της Τιτίκας με θέμα το μονόκερο από την e.m. for you",
         "Το όνομα που επέλεξε η μαμά Ανδριανή για τη γλυκιά Τιτίκα δεν είναι καθόλου τυχαίο. Και φυσικά δεν άφησε τίποτα στην τύχη ούτε την ημέρα της βάπτισης. Ανέθεσε την οργάνωση στην… ",
         4,
         "Manosbojana Katsareas",
         "Diy Flowers,Flower Diy,Baptism Decorations,Christening,Event Planning,Wedding Planner,Baptism Ideas,Birthday,Party",
         "image",
         "https://i.pinimg.com/originals/db/aa/d2/dbaad28fa85012a4ea6958540d98a8e5.jpg",
         "/data/event-planning",
         "event-planning"
        ],
        [
         6717,
         "bc5ab9ee-505e-44f6-92ba-677fe4fdf3e3",
         "〚 Уютные шведские коттеджи от Carina Olander 〛 ◾ Фото ◾ Идеи ◾ Дизайн",
         "Традиционные шведские коттеджи, обычно с красным фасадом — это настоящее воплощением идеального зимнего уюта. Они обычно оформлены очень просто и ✌PUFIK. Beautiful Interiors. On… ",
         136000,
         "PUFIK Interiors & Inspirations",
         "Scandinavian Cottage,Swedish Cottage,Swedish Home Decor,Swedish Farmhouse,Swedish Style,Swedish Kitchen,Kitchen Black,Swedish House,Cozy Cottage",
         "image",
         "https://i.pinimg.com/originals/32/eb/72/32eb72e4fd8654c115a64528bd1f34b4.png",
         "/data/home-decor",
         "home-decor"
        ],
        [
         4858,
         "58101415-9273-4311-a5bd-0015a56579b4",
         "THE EVENT COLLECTIVE ✖️ on Instagram: “I’ve always loved emerald green 🌲 by @a.purnellproduction Beautiful balloons by @basicallycuteevents  @inspiredengravings for the acrylic…”",
         "15.1k Likes, 83 Comments - THE EVENT COLLECTIVE ✖️ (@theeventcollectivex) on Instagram: “I’ve always loved emerald green 🌲 by @a.purnellproduction Beautiful balloons by…”",
         311,
         "Marie Bradford",
         "Diy Birthday Decorations,Balloon Decorations,Table Decorations,Emerald Green Decor,40th Birthday Parties,24th Birthday,Surprise Birthday,Brunch Decor,Quinceanera Themes",
         "image",
         "https://i.pinimg.com/originals/91/0b/5c/910b5c120f7d1570ffc840302d7b49f4.jpg",
         "/data/event-planning",
         "event-planning"
        ],
        [
         4608,
         "d234e56f-5b18-4ef3-905b-44103f7719d9",
         "Virtual Baby Shower Little Man Baby Shower Banner, Mustache Baby Shower Backdrop, Oh Boy, Any Color,  Printed Or Printable File BBS0035 - 10x8 ft / Top Pole Pocket",
         "Wow your guests! Our backdrops are a great option for providing a personalized, stylish and fun addition to your party .It will be the focal point in any event! They are great a… ",
         1000,
         "Iconica Design | Personalized Event Decor, Stationery & Gifts",
         "Christmas Party Backdrop,Holiday Banner,Birthday Backdrop,Circus First Birthday,First Birthday Banners,Dinasour Birthday,Birthday Bash,Banner Backdrop,Photo Booth Backdrop",
         "image",
         "https://i.pinimg.com/originals/15/1f/93/151f93d662dc158ca2c9bbfed198f556.jpg",
         "/data/event-planning",
         "event-planning"
        ],
        [
         6633,
         "d136f6bc-840d-44f8-bbad-115eb7e6c51e",
         "The Cottage Journal on Instagram: “Can you say color?! 😍😍😍 We are loving the cheery vibes that these aqua blue cabinets are giving. If you could paint your cabinets any…”",
         "6,636 Likes, 141 Comments - The Cottage Journal (@thecottagejournal) on Instagram: “Can you say color?! 😍😍😍 We are loving the cheery vibes that these aqua blue cabinets are g… ",
         394,
         "Sarah Martin",
         "Diy Kitchen Cabinets,Kitchen Redo,Home Decor Kitchen,New Kitchen,Home Kitchens,Kitchen Remodeling,Aqua Kitchen,Kitchen Counters,Kitchen Islands",
         "image",
         "https://i.pinimg.com/originals/8c/17/a2/8c17a257b70780480bb89c3699363144.jpg",
         "/data/home-decor",
         "home-decor"
        ]
       ],
       "datasetInfos": [],
       "dbfsResultPath": null,
       "isJsonSchema": true,
       "metadata": {},
       "overflow": false,
       "plotOptions": {
        "customPlotOptions": {},
        "displayType": "table",
        "pivotAggregation": null,
        "pivotColumns": null,
        "xColumns": null,
        "yColumns": null
       },
       "removedWidgets": [],
       "schema": [
        {
         "metadata": "{}",
         "name": "ind",
         "type": "\"long\""
        },
        {
         "metadata": "{}",
         "name": "unique_id",
         "type": "\"string\""
        },
        {
         "metadata": "{}",
         "name": "title",
         "type": "\"string\""
        },
        {
         "metadata": "{}",
         "name": "description",
         "type": "\"string\""
        },
        {
         "metadata": "{}",
         "name": "follower_count",
         "type": "\"integer\""
        },
        {
         "metadata": "{}",
         "name": "poster_name",
         "type": "\"string\""
        },
        {
         "metadata": "{}",
         "name": "tag_list",
         "type": "\"string\""
        },
        {
         "metadata": "{}",
         "name": "is_image_or_video",
         "type": "\"string\""
        },
        {
         "metadata": "{}",
         "name": "image_src",
         "type": "\"string\""
        },
        {
         "metadata": "{}",
         "name": "save_location",
         "type": "\"string\""
        },
        {
         "metadata": "{}",
         "name": "category",
         "type": "\"string\""
        }
       ],
       "type": "table"
      }
     },
     "output_type": "display_data"
    }
   ],
   "source": [
    "# Replace empty, irrelevant entries with Nones\n",
    "df_pin = df_pin.replace('', None)\n",
    "df_pin = df_pin.replace(' ', None)\n",
    "df_pin = df_pin.replace('nan', None)\n",
    "# Convert follower_count to integer, handling 'k' and 'M' notations\n",
    "df_pin = df_pin.withColumn('follower_count', regexp_replace('follower_count', 'k', '000'))\n",
    "df_pin = df_pin.withColumn('follower_count', regexp_replace('follower_count', 'M', '000000'))\n",
    "df_pin = df_pin.withColumn('follower_count', df_pin['follower_count'].cast('int'))\n",
    "# Clean save_location column by removing 'Local save in' text\n",
    "df_pin = df_pin.withColumn('save_location', regexp_replace('save_location', 'Local save in ', ''))\n",
    "# Rename index column to 'ind' and reorder DataFrame columns\n",
    "df_pin = df_pin.withColumnRenamed('index', 'ind')\n",
    "#Reorder the DataFrame columns to have the following column order:\n",
    "df_pin = df_pin.select('ind', 'unique_id', 'title', 'description', 'follower_count', \n",
    "                       'poster_name', 'tag_list', 'is_image_or_video', 'image_src', 'save_location', 'category')\n",
    "\n",
    "display(df_pin.limit(5))"
   ]
  },
  {
   "cell_type": "markdown",
   "metadata": {
    "application/vnd.databricks.v1+cell": {
     "cellMetadata": {
      "byteLimit": 2048000,
      "rowLimit": 10000
     },
     "inputWidgets": {},
     "nuid": "b3858640-b7a7-4285-84cd-cd313e813d0b",
     "showTitle": false,
     "title": ""
    }
   },
   "source": [
    "#### Data Cleaning for df_geo"
   ]
  },
  {
   "cell_type": "code",
   "execution_count": null,
   "metadata": {
    "application/vnd.databricks.v1+cell": {
     "cellMetadata": {
      "byteLimit": 2048000,
      "rowLimit": 10000
     },
     "inputWidgets": {},
     "nuid": "f901766b-7527-4e9a-909d-8a70b33ee8d8",
     "showTitle": false,
     "title": ""
    }
   },
   "outputs": [
    {
     "data": {
      "text/html": [
       "<style scoped>\n",
       "  .table-result-container {\n",
       "    max-height: 300px;\n",
       "    overflow: auto;\n",
       "  }\n",
       "  table, th, td {\n",
       "    border: 1px solid black;\n",
       "    border-collapse: collapse;\n",
       "  }\n",
       "  th, td {\n",
       "    padding: 5px;\n",
       "  }\n",
       "  th {\n",
       "    text-align: left;\n",
       "  }\n",
       "</style><div class='table-result-container'><table class='table-result'><thead style='background-color: white'><tr><th>ind</th><th>country</th><th>coordinates</th><th>timestamp</th></tr></thead><tbody><tr><td>9455</td><td>British Indian Ocean Territory (Chagos Archipelago)</td><td>List(-82.9272, -150.346)</td><td>2022-03-15T01:46:32.000+0000</td></tr><tr><td>6814</td><td>British Indian Ocean Territory (Chagos Archipelago)</td><td>List(-86.5675, -149.565)</td><td>2022-09-02T11:34:28.000+0000</td></tr><tr><td>7151</td><td>British Indian Ocean Territory (Chagos Archipelago)</td><td>List(-14.6744, -75.3714)</td><td>2020-06-05T23:37:24.000+0000</td></tr><tr><td>8221</td><td>British Indian Ocean Territory (Chagos Archipelago)</td><td>List(-20.5574, -54.4834)</td><td>2021-12-29T06:33:46.000+0000</td></tr><tr><td>7569</td><td>British Indian Ocean Territory (Chagos Archipelago)</td><td>List(-86.5675, -149.565)</td><td>2018-10-16T08:40:26.000+0000</td></tr></tbody></table></div>"
      ]
     },
     "metadata": {
      "application/vnd.databricks.v1+output": {
       "addedWidgets": {},
       "aggData": [],
       "aggError": "",
       "aggOverflow": false,
       "aggSchema": [],
       "aggSeriesLimitReached": false,
       "aggType": "",
       "arguments": {},
       "columnCustomDisplayInfos": {},
       "data": [
        [
         9455,
         "British Indian Ocean Territory (Chagos Archipelago)",
         [
          -82.9272,
          -150.346
         ],
         "2022-03-15T01:46:32.000+0000"
        ],
        [
         6814,
         "British Indian Ocean Territory (Chagos Archipelago)",
         [
          -86.5675,
          -149.565
         ],
         "2022-09-02T11:34:28.000+0000"
        ],
        [
         7151,
         "British Indian Ocean Territory (Chagos Archipelago)",
         [
          -14.6744,
          -75.3714
         ],
         "2020-06-05T23:37:24.000+0000"
        ],
        [
         8221,
         "British Indian Ocean Territory (Chagos Archipelago)",
         [
          -20.5574,
          -54.4834
         ],
         "2021-12-29T06:33:46.000+0000"
        ],
        [
         7569,
         "British Indian Ocean Territory (Chagos Archipelago)",
         [
          -86.5675,
          -149.565
         ],
         "2018-10-16T08:40:26.000+0000"
        ]
       ],
       "datasetInfos": [],
       "dbfsResultPath": null,
       "isJsonSchema": true,
       "metadata": {},
       "overflow": false,
       "plotOptions": {
        "customPlotOptions": {},
        "displayType": "table",
        "pivotAggregation": null,
        "pivotColumns": null,
        "xColumns": null,
        "yColumns": null
       },
       "removedWidgets": [],
       "schema": [
        {
         "metadata": "{}",
         "name": "ind",
         "type": "\"long\""
        },
        {
         "metadata": "{}",
         "name": "country",
         "type": "\"string\""
        },
        {
         "metadata": "{}",
         "name": "coordinates",
         "type": "{\"type\":\"array\",\"elementType\":\"double\",\"containsNull\":true}"
        },
        {
         "metadata": "{}",
         "name": "timestamp",
         "type": "\"timestamp\""
        }
       ],
       "type": "table"
      }
     },
     "output_type": "display_data"
    }
   ],
   "source": [
    "#Create a new column that contains an array based on the latitude and longitude columns\n",
    "df_geo = df_geo.withColumn('coordinates', array('latitude', 'longitude'))\n",
    "df_geo = df_geo.drop('latitude', 'longitude')\n",
    "#Convert the timestamp column from a string to a timestamp data type\n",
    "df_geo = df_geo.withColumn('timestamp', df_geo['timestamp'].cast('timestamp'))\n",
    "#Reorder the DataFrame columns to have the following column order:\n",
    "df_geo = df_geo.select('ind', 'country', 'coordinates', 'timestamp')\n",
    "\n",
    "display(df_geo.limit(5))"
   ]
  },
  {
   "cell_type": "markdown",
   "metadata": {
    "application/vnd.databricks.v1+cell": {
     "cellMetadata": {
      "byteLimit": 2048000,
      "rowLimit": 10000
     },
     "inputWidgets": {},
     "nuid": "eba01065-e19f-4020-bcec-35ef195d3566",
     "showTitle": false,
     "title": ""
    }
   },
   "source": [
    "#### Data Cleaning for df_user"
   ]
  },
  {
   "cell_type": "code",
   "execution_count": null,
   "metadata": {
    "application/vnd.databricks.v1+cell": {
     "cellMetadata": {
      "byteLimit": 2048000,
      "rowLimit": 10000
     },
     "inputWidgets": {},
     "nuid": "0a9bcca3-06c5-4406-bdf6-883768ba0a01",
     "showTitle": false,
     "title": ""
    }
   },
   "outputs": [
    {
     "data": {
      "text/html": [
       "<style scoped>\n",
       "  .table-result-container {\n",
       "    max-height: 300px;\n",
       "    overflow: auto;\n",
       "  }\n",
       "  table, th, td {\n",
       "    border: 1px solid black;\n",
       "    border-collapse: collapse;\n",
       "  }\n",
       "  th, td {\n",
       "    padding: 5px;\n",
       "  }\n",
       "  th {\n",
       "    text-align: left;\n",
       "  }\n",
       "</style><div class='table-result-container'><table class='table-result'><thead style='background-color: white'><tr><th>ind</th><th>user_name</th><th>age</th><th>date_joined</th></tr></thead><tbody><tr><td>6353</td><td>Christopher Hernandez</td><td>42</td><td>2017-02-18T00:31:22.000+0000</td></tr><tr><td>2015</td><td>Christopher Bradshaw</td><td>27</td><td>2016-03-08T13:38:37.000+0000</td></tr><tr><td>10673</td><td>Alexander Cervantes</td><td>59</td><td>2017-05-12T21:22:17.000+0000</td></tr><tr><td>1857</td><td>Christopher Hamilton</td><td>48</td><td>2016-02-27T16:57:44.000+0000</td></tr><tr><td>10020</td><td>Christopher Hawkins</td><td>45</td><td>2016-09-15T06:02:53.000+0000</td></tr></tbody></table></div>"
      ]
     },
     "metadata": {
      "application/vnd.databricks.v1+output": {
       "addedWidgets": {},
       "aggData": [],
       "aggError": "",
       "aggOverflow": false,
       "aggSchema": [],
       "aggSeriesLimitReached": false,
       "aggType": "",
       "arguments": {},
       "columnCustomDisplayInfos": {},
       "data": [
        [
         6353,
         "Christopher Hernandez",
         42,
         "2017-02-18T00:31:22.000+0000"
        ],
        [
         2015,
         "Christopher Bradshaw",
         27,
         "2016-03-08T13:38:37.000+0000"
        ],
        [
         10673,
         "Alexander Cervantes",
         59,
         "2017-05-12T21:22:17.000+0000"
        ],
        [
         1857,
         "Christopher Hamilton",
         48,
         "2016-02-27T16:57:44.000+0000"
        ],
        [
         10020,
         "Christopher Hawkins",
         45,
         "2016-09-15T06:02:53.000+0000"
        ]
       ],
       "datasetInfos": [],
       "dbfsResultPath": null,
       "isJsonSchema": true,
       "metadata": {},
       "overflow": false,
       "plotOptions": {
        "customPlotOptions": {},
        "displayType": "table",
        "pivotAggregation": null,
        "pivotColumns": null,
        "xColumns": null,
        "yColumns": null
       },
       "removedWidgets": [],
       "schema": [
        {
         "metadata": "{}",
         "name": "ind",
         "type": "\"long\""
        },
        {
         "metadata": "{}",
         "name": "user_name",
         "type": "\"string\""
        },
        {
         "metadata": "{}",
         "name": "age",
         "type": "\"long\""
        },
        {
         "metadata": "{}",
         "name": "date_joined",
         "type": "\"timestamp\""
        }
       ],
       "type": "table"
      }
     },
     "output_type": "display_data"
    }
   ],
   "source": [
    "#Clean the df_user dataframe\n",
    "#Create a new column user_name that concatenates the first_name and last_name columns\n",
    "df_user = df_user.withColumn('user_name', concat(df_user['first_name'], lit(' '), df_user['last_name']))\n",
    "df_user = df_user.drop('first_name', 'last_name')\n",
    "#Convert the date_joined column from a string to a timestamp data type\n",
    "df_user = df_user.withColumn('date_joined', df_user['date_joined'].cast('timestamp'))\n",
    "#Reorder the DataFrame columns to have the following column order:\n",
    "df_user = df_user.select('ind', 'user_name', 'age', 'date_joined')\n",
    "\n",
    "display(df_user.limit(5))"
   ]
  },
  {
   "cell_type": "markdown",
   "metadata": {
    "application/vnd.databricks.v1+cell": {
     "cellMetadata": {
      "byteLimit": 2048000,
      "rowLimit": 10000
     },
     "inputWidgets": {},
     "nuid": "f54dca96-daf4-49e2-b387-3dfec3744f20",
     "showTitle": false,
     "title": ""
    }
   },
   "source": [
    "### Data Analysis\n",
    "\n",
    "In this section, the script demonstrates various data analysis operations conducted on the retrieved data.\n",
    "\n",
    "Through a series of transformations and analytical queries, the code explores different facets of the dataset. By leveraging the capabilities of Spark DataFrames, the script provides insights into user demographics, popular content categories, follower statistics, and other metrics. \n",
    "\n",
    "This analysis offer valuable perspectives on the underlying patterns and trends within the dataset, facilitating informed decision-making and strategic insights for further business development and optimisation."
   ]
  },
  {
   "cell_type": "markdown",
   "metadata": {
    "application/vnd.databricks.v1+cell": {
     "cellMetadata": {
      "byteLimit": 2048000,
      "rowLimit": 10000
     },
     "inputWidgets": {},
     "nuid": "57065cda-cc5b-4aa2-b277-5fea57a598ec",
     "showTitle": false,
     "title": ""
    }
   },
   "source": [
    "#### Find the most popular Pinterest category people post to based on their country.\n"
   ]
  },
  {
   "cell_type": "code",
   "execution_count": null,
   "metadata": {
    "application/vnd.databricks.v1+cell": {
     "cellMetadata": {
      "byteLimit": 2048000,
      "rowLimit": 10000
     },
     "inputWidgets": {},
     "nuid": "a3e0fb48-ebc4-475c-a8f2-31559c4b9d46",
     "showTitle": false,
     "title": ""
    }
   },
   "outputs": [
    {
     "data": {
      "text/html": [
       "<style scoped>\n",
       "  .table-result-container {\n",
       "    max-height: 300px;\n",
       "    overflow: auto;\n",
       "  }\n",
       "  table, th, td {\n",
       "    border: 1px solid black;\n",
       "    border-collapse: collapse;\n",
       "  }\n",
       "  th, td {\n",
       "    padding: 5px;\n",
       "  }\n",
       "  th {\n",
       "    text-align: left;\n",
       "  }\n",
       "</style><div class='table-result-container'><table class='table-result'><thead style='background-color: white'><tr><th>country</th><th>category</th><th>category_count</th></tr></thead><tbody><tr><td>Afghanistan</td><td>education</td><td>29</td></tr><tr><td>Albania</td><td>art</td><td>40</td></tr><tr><td>Algeria</td><td>quotes</td><td>53</td></tr><tr><td>American Samoa</td><td>tattoos</td><td>18</td></tr><tr><td>Andorra</td><td>tattoos</td><td>11</td></tr><tr><td>Angola</td><td>diy-and-crafts</td><td>7</td></tr><tr><td>Anguilla</td><td>diy-and-crafts</td><td>9</td></tr><tr><td>Antarctica (the territory South of 60 deg S)</td><td>christmas</td><td>11</td></tr><tr><td>Antigua and Barbuda</td><td>travel</td><td>8</td></tr><tr><td>Argentina</td><td>tattoos</td><td>22</td></tr></tbody></table></div>"
      ]
     },
     "metadata": {
      "application/vnd.databricks.v1+output": {
       "addedWidgets": {},
       "aggData": [],
       "aggError": "",
       "aggOverflow": false,
       "aggSchema": [],
       "aggSeriesLimitReached": false,
       "aggType": "",
       "arguments": {},
       "columnCustomDisplayInfos": {},
       "data": [
        [
         "Afghanistan",
         "education",
         29
        ],
        [
         "Albania",
         "art",
         40
        ],
        [
         "Algeria",
         "quotes",
         53
        ],
        [
         "American Samoa",
         "tattoos",
         18
        ],
        [
         "Andorra",
         "tattoos",
         11
        ],
        [
         "Angola",
         "diy-and-crafts",
         7
        ],
        [
         "Anguilla",
         "diy-and-crafts",
         9
        ],
        [
         "Antarctica (the territory South of 60 deg S)",
         "christmas",
         11
        ],
        [
         "Antigua and Barbuda",
         "travel",
         8
        ],
        [
         "Argentina",
         "tattoos",
         22
        ]
       ],
       "datasetInfos": [],
       "dbfsResultPath": null,
       "isJsonSchema": true,
       "metadata": {},
       "overflow": false,
       "plotOptions": {
        "customPlotOptions": {},
        "displayType": "table",
        "pivotAggregation": null,
        "pivotColumns": null,
        "xColumns": null,
        "yColumns": null
       },
       "removedWidgets": [],
       "schema": [
        {
         "metadata": "{}",
         "name": "country",
         "type": "\"string\""
        },
        {
         "metadata": "{}",
         "name": "category",
         "type": "\"string\""
        },
        {
         "metadata": "{}",
         "name": "category_count",
         "type": "\"long\""
        }
       ],
       "type": "table"
      }
     },
     "output_type": "display_data"
    }
   ],
   "source": [
    "#Use the ind column as the join key\n",
    "df_category_country = df_geo.join(df_pin, df_geo.ind == df_pin.ind).select(df_geo.country, df_pin.category)\n",
    "\n",
    "df_category_country = df_category_country.groupBy('country', 'category').count()\n",
    "df_category_country = df_category_country.withColumnRenamed('count', 'category_count')\n",
    "df_category_country = df_category_country.orderBy('category_count', ascending=False)\n",
    "df_category_country = df_category_country.dropDuplicates(['country'])\n",
    "df_category_country = df_category_country.select('country', 'category', 'category_count')\n",
    "\n",
    "display(df_category_country.limit(10))"
   ]
  },
  {
   "cell_type": "markdown",
   "metadata": {
    "application/vnd.databricks.v1+cell": {
     "cellMetadata": {
      "byteLimit": 2048000,
      "rowLimit": 10000
     },
     "inputWidgets": {},
     "nuid": "3ac649e1-02f0-43c4-bbdd-5cd9ad8a10b9",
     "showTitle": false,
     "title": ""
    }
   },
   "source": [
    "#### Find how many posts each category had between 2018 and 2022."
   ]
  },
  {
   "cell_type": "code",
   "execution_count": null,
   "metadata": {
    "application/vnd.databricks.v1+cell": {
     "cellMetadata": {
      "byteLimit": 2048000,
      "rowLimit": 10000
     },
     "inputWidgets": {},
     "nuid": "9ca0d93e-c32d-4dbf-9b0d-728e3238dd78",
     "showTitle": false,
     "title": ""
    }
   },
   "outputs": [
    {
     "data": {
      "text/html": [
       "<style scoped>\n",
       "  .table-result-container {\n",
       "    max-height: 300px;\n",
       "    overflow: auto;\n",
       "  }\n",
       "  table, th, td {\n",
       "    border: 1px solid black;\n",
       "    border-collapse: collapse;\n",
       "  }\n",
       "  th, td {\n",
       "    padding: 5px;\n",
       "  }\n",
       "  th {\n",
       "    text-align: left;\n",
       "  }\n",
       "</style><div class='table-result-container'><table class='table-result'><thead style='background-color: white'><tr><th>post_year</th><th>category</th><th>category_count</th></tr></thead><tbody><tr><td>2022</td><td>beauty</td><td>41</td></tr><tr><td>2022</td><td>tattoos</td><td>39</td></tr><tr><td>2022</td><td>finance</td><td>43</td></tr><tr><td>2022</td><td>education</td><td>31</td></tr><tr><td>2022</td><td>travel</td><td>38</td></tr><tr><td>2022</td><td>quotes</td><td>50</td></tr><tr><td>2022</td><td>event-planning</td><td>28</td></tr><tr><td>2022</td><td>christmas</td><td>58</td></tr><tr><td>2022</td><td>home-decor</td><td>26</td></tr><tr><td>2022</td><td>vehicles</td><td>27</td></tr></tbody></table></div>"
      ]
     },
     "metadata": {
      "application/vnd.databricks.v1+output": {
       "addedWidgets": {},
       "aggData": [],
       "aggError": "",
       "aggOverflow": false,
       "aggSchema": [],
       "aggSeriesLimitReached": false,
       "aggType": "",
       "arguments": {},
       "columnCustomDisplayInfos": {},
       "data": [
        [
         2022,
         "beauty",
         41
        ],
        [
         2022,
         "tattoos",
         39
        ],
        [
         2022,
         "finance",
         43
        ],
        [
         2022,
         "education",
         31
        ],
        [
         2022,
         "travel",
         38
        ],
        [
         2022,
         "quotes",
         50
        ],
        [
         2022,
         "event-planning",
         28
        ],
        [
         2022,
         "christmas",
         58
        ],
        [
         2022,
         "home-decor",
         26
        ],
        [
         2022,
         "vehicles",
         27
        ]
       ],
       "datasetInfos": [],
       "dbfsResultPath": null,
       "isJsonSchema": true,
       "metadata": {},
       "overflow": false,
       "plotOptions": {
        "customPlotOptions": {},
        "displayType": "table",
        "pivotAggregation": null,
        "pivotColumns": null,
        "xColumns": null,
        "yColumns": null
       },
       "removedWidgets": [],
       "schema": [
        {
         "metadata": "{}",
         "name": "post_year",
         "type": "\"integer\""
        },
        {
         "metadata": "{}",
         "name": "category",
         "type": "\"string\""
        },
        {
         "metadata": "{}",
         "name": "category_count",
         "type": "\"long\""
        }
       ],
       "type": "table"
      }
     },
     "output_type": "display_data"
    }
   ],
   "source": [
    "df_category_year = df_geo.join(df_pin, df_geo.ind == df_pin.ind) \\\n",
    "        .select(year(df_geo.timestamp).alias('post_year'), df_pin.category)\n",
    "\n",
    "df_category_year = df_category_year.groupBy('post_year', 'category').count()\n",
    "df_category_year = df_category_year.withColumnRenamed('count', 'category_count')\n",
    "df_category_year = df_category_year.orderBy('post_year', ascending=False)\n",
    "df_category_year = df_category_year.select('post_year', 'category', 'category_count')\n",
    "df_category_year = df_category_year.filter(df_category_year.post_year >= 2018)\n",
    "df_category_year = df_category_year.filter(df_category_year.post_year <= 2022)\n",
    "\n",
    "display(df_category_year.limit(10))"
   ]
  },
  {
   "cell_type": "markdown",
   "metadata": {
    "application/vnd.databricks.v1+cell": {
     "cellMetadata": {
      "byteLimit": 2048000,
      "rowLimit": 10000
     },
     "inputWidgets": {},
     "nuid": "71614c79-38b7-4ae7-b3fa-b1f774be285c",
     "showTitle": false,
     "title": ""
    }
   },
   "source": [
    "#### Find the user with the most followers in each country."
   ]
  },
  {
   "cell_type": "code",
   "execution_count": null,
   "metadata": {
    "application/vnd.databricks.v1+cell": {
     "cellMetadata": {
      "byteLimit": 2048000,
      "rowLimit": 10000
     },
     "inputWidgets": {},
     "nuid": "173e04ad-5643-44aa-9bf6-f825bed4768f",
     "showTitle": false,
     "title": ""
    }
   },
   "outputs": [
    {
     "data": {
      "text/html": [
       "<style scoped>\n",
       "  .table-result-container {\n",
       "    max-height: 300px;\n",
       "    overflow: auto;\n",
       "  }\n",
       "  table, th, td {\n",
       "    border: 1px solid black;\n",
       "    border-collapse: collapse;\n",
       "  }\n",
       "  th, td {\n",
       "    padding: 5px;\n",
       "  }\n",
       "  th {\n",
       "    text-align: left;\n",
       "  }\n",
       "</style><div class='table-result-container'><table class='table-result'><thead style='background-color: white'><tr><th>country</th><th>poster_name</th><th>follower_count</th></tr></thead><tbody><tr><td>Afghanistan</td><td>9GAG</td><td>3000000</td></tr><tr><td>Albania</td><td>The Minds Journal</td><td>5000000</td></tr><tr><td>Algeria</td><td>Apartment Therapy</td><td>5000000</td></tr><tr><td>American Samoa</td><td>Mamas Uncut</td><td>8000000</td></tr><tr><td>Andorra</td><td>Teachers Pay Teachers</td><td>1000000</td></tr><tr><td>Angola</td><td>Tastemade</td><td>8000000</td></tr><tr><td>Anguilla</td><td>We Heart It</td><td>15000000</td></tr><tr><td>Antarctica (the territory South of 60 deg S)</td><td>Refinery29</td><td>1000000</td></tr><tr><td>Antigua and Barbuda</td><td>Country Living Magazine</td><td>1000000</td></tr><tr><td>Argentina</td><td>Cheezburger</td><td>2000000</td></tr></tbody></table></div>"
      ]
     },
     "metadata": {
      "application/vnd.databricks.v1+output": {
       "addedWidgets": {},
       "aggData": [],
       "aggError": "",
       "aggOverflow": false,
       "aggSchema": [],
       "aggSeriesLimitReached": false,
       "aggType": "",
       "arguments": {},
       "columnCustomDisplayInfos": {},
       "data": [
        [
         "Afghanistan",
         "9GAG",
         3000000
        ],
        [
         "Albania",
         "The Minds Journal",
         5000000
        ],
        [
         "Algeria",
         "Apartment Therapy",
         5000000
        ],
        [
         "American Samoa",
         "Mamas Uncut",
         8000000
        ],
        [
         "Andorra",
         "Teachers Pay Teachers",
         1000000
        ],
        [
         "Angola",
         "Tastemade",
         8000000
        ],
        [
         "Anguilla",
         "We Heart It",
         15000000
        ],
        [
         "Antarctica (the territory South of 60 deg S)",
         "Refinery29",
         1000000
        ],
        [
         "Antigua and Barbuda",
         "Country Living Magazine",
         1000000
        ],
        [
         "Argentina",
         "Cheezburger",
         2000000
        ]
       ],
       "datasetInfos": [],
       "dbfsResultPath": null,
       "isJsonSchema": true,
       "metadata": {},
       "overflow": false,
       "plotOptions": {
        "customPlotOptions": {},
        "displayType": "table",
        "pivotAggregation": null,
        "pivotColumns": null,
        "xColumns": null,
        "yColumns": null
       },
       "removedWidgets": [],
       "schema": [
        {
         "metadata": "{}",
         "name": "country",
         "type": "\"string\""
        },
        {
         "metadata": "{}",
         "name": "poster_name",
         "type": "\"string\""
        },
        {
         "metadata": "{}",
         "name": "follower_count",
         "type": "\"integer\""
        }
       ],
       "type": "table"
      }
     },
     "output_type": "display_data"
    }
   ],
   "source": [
    "df_most_followers_per_country = df_geo.join(df_pin, df_geo.ind == df_pin.ind) \\\n",
    "        .select(df_geo.country, df_pin.poster_name, df_pin.follower_count)\n",
    "df_most_followers_per_country = df_most_followers_per_country.groupBy('country', 'poster_name') \\\n",
    "        .max('follower_count')\n",
    "df_most_followers_per_country = df_most_followers_per_country \\\n",
    "        .withColumnRenamed('max(follower_count)', 'follower_count')\n",
    "df_most_followers_per_country = df_most_followers_per_country.orderBy('follower_count', ascending=False)\n",
    "df_most_followers_per_country = df_most_followers_per_country.dropDuplicates(['country'])\n",
    "df_most_followers_per_country = df_most_followers_per_country.select('country', 'poster_name', 'follower_count')\n",
    "\n",
    "display(df_most_followers_per_country.limit(10))"
   ]
  },
  {
   "cell_type": "markdown",
   "metadata": {
    "application/vnd.databricks.v1+cell": {
     "cellMetadata": {
      "byteLimit": 2048000,
      "rowLimit": 10000
     },
     "inputWidgets": {},
     "nuid": "1fa61d63-daa8-49c1-9676-e95b5bc6c738",
     "showTitle": false,
     "title": ""
    }
   },
   "source": [
    "#### Find the country with the user with most followers."
   ]
  },
  {
   "cell_type": "code",
   "execution_count": null,
   "metadata": {
    "application/vnd.databricks.v1+cell": {
     "cellMetadata": {
      "byteLimit": 2048000,
      "rowLimit": 10000
     },
     "inputWidgets": {},
     "nuid": "2d4278de-909a-474c-8178-3f3d33619e1a",
     "showTitle": false,
     "title": ""
    }
   },
   "outputs": [
    {
     "data": {
      "text/html": [
       "<style scoped>\n",
       "  .table-result-container {\n",
       "    max-height: 300px;\n",
       "    overflow: auto;\n",
       "  }\n",
       "  table, th, td {\n",
       "    border: 1px solid black;\n",
       "    border-collapse: collapse;\n",
       "  }\n",
       "  th, td {\n",
       "    padding: 5px;\n",
       "  }\n",
       "  th {\n",
       "    text-align: left;\n",
       "  }\n",
       "</style><div class='table-result-container'><table class='table-result'><thead style='background-color: white'><tr><th>country</th><th>follower_count</th></tr></thead><tbody><tr><td>Anguilla</td><td>15000000</td></tr></tbody></table></div>"
      ]
     },
     "metadata": {
      "application/vnd.databricks.v1+output": {
       "addedWidgets": {},
       "aggData": [],
       "aggError": "",
       "aggOverflow": false,
       "aggSchema": [],
       "aggSeriesLimitReached": false,
       "aggType": "",
       "arguments": {},
       "columnCustomDisplayInfos": {},
       "data": [
        [
         "Anguilla",
         15000000
        ]
       ],
       "datasetInfos": [],
       "dbfsResultPath": null,
       "isJsonSchema": true,
       "metadata": {},
       "overflow": false,
       "plotOptions": {
        "customPlotOptions": {},
        "displayType": "table",
        "pivotAggregation": null,
        "pivotColumns": null,
        "xColumns": null,
        "yColumns": null
       },
       "removedWidgets": [],
       "schema": [
        {
         "metadata": "{}",
         "name": "country",
         "type": "\"string\""
        },
        {
         "metadata": "{}",
         "name": "follower_count",
         "type": "\"integer\""
        }
       ],
       "type": "table"
      }
     },
     "output_type": "display_data"
    }
   ],
   "source": [
    "df_most_followed = df_most_followers_per_country.groupBy('country').max('follower_count')\n",
    "df_most_followed = df_most_followed.withColumnRenamed('max(follower_count)', 'follower_count')\n",
    "df_most_followed = df_most_followed.orderBy('follower_count', ascending=False)\n",
    "#limit to one entry\n",
    "df_most_followed = df_most_followed.limit(1)\n",
    "\n",
    "display(df_most_followed)"
   ]
  },
  {
   "cell_type": "markdown",
   "metadata": {
    "application/vnd.databricks.v1+cell": {
     "cellMetadata": {
      "byteLimit": 2048000,
      "rowLimit": 10000
     },
     "inputWidgets": {},
     "nuid": "73e88dcb-eb97-43b8-90fb-7738f89453fc",
     "showTitle": false,
     "title": ""
    }
   },
   "source": [
    "#### Find the most popular category for different age groups."
   ]
  },
  {
   "cell_type": "code",
   "execution_count": null,
   "metadata": {
    "application/vnd.databricks.v1+cell": {
     "cellMetadata": {
      "byteLimit": 2048000,
      "rowLimit": 10000
     },
     "inputWidgets": {},
     "nuid": "c6347000-2505-4586-9003-8a9da3314ebb",
     "showTitle": false,
     "title": ""
    }
   },
   "outputs": [
    {
     "data": {
      "text/html": [
       "<style scoped>\n",
       "  .table-result-container {\n",
       "    max-height: 300px;\n",
       "    overflow: auto;\n",
       "  }\n",
       "  table, th, td {\n",
       "    border: 1px solid black;\n",
       "    border-collapse: collapse;\n",
       "  }\n",
       "  th, td {\n",
       "    padding: 5px;\n",
       "  }\n",
       "  th {\n",
       "    text-align: left;\n",
       "  }\n",
       "</style><div class='table-result-container'><table class='table-result'><thead style='background-color: white'><tr><th>age_group</th><th>category</th><th>category_count</th></tr></thead><tbody><tr><td>18-24</td><td>tattoos</td><td>148</td></tr><tr><td>18-24</td><td>travel</td><td>74</td></tr><tr><td>18-24</td><td>education</td><td>109</td></tr><tr><td>18-24</td><td>beauty</td><td>52</td></tr><tr><td>18-24</td><td>diy-and-crafts</td><td>120</td></tr><tr><td>18-24</td><td>event-planning</td><td>55</td></tr><tr><td>18-24</td><td>christmas</td><td>112</td></tr><tr><td>18-24</td><td>quotes</td><td>124</td></tr><tr><td>18-24</td><td>mens-fashion</td><td>119</td></tr><tr><td>18-24</td><td>finance</td><td>76</td></tr></tbody></table></div>"
      ]
     },
     "metadata": {
      "application/vnd.databricks.v1+output": {
       "addedWidgets": {},
       "aggData": [],
       "aggError": "",
       "aggOverflow": false,
       "aggSchema": [],
       "aggSeriesLimitReached": false,
       "aggType": "",
       "arguments": {},
       "columnCustomDisplayInfos": {},
       "data": [
        [
         "18-24",
         "tattoos",
         148
        ],
        [
         "18-24",
         "travel",
         74
        ],
        [
         "18-24",
         "education",
         109
        ],
        [
         "18-24",
         "beauty",
         52
        ],
        [
         "18-24",
         "diy-and-crafts",
         120
        ],
        [
         "18-24",
         "event-planning",
         55
        ],
        [
         "18-24",
         "christmas",
         112
        ],
        [
         "18-24",
         "quotes",
         124
        ],
        [
         "18-24",
         "mens-fashion",
         119
        ],
        [
         "18-24",
         "finance",
         76
        ]
       ],
       "datasetInfos": [],
       "dbfsResultPath": null,
       "isJsonSchema": true,
       "metadata": {},
       "overflow": false,
       "plotOptions": {
        "customPlotOptions": {},
        "displayType": "table",
        "pivotAggregation": null,
        "pivotColumns": null,
        "xColumns": null,
        "yColumns": null
       },
       "removedWidgets": [],
       "schema": [
        {
         "metadata": "{}",
         "name": "age_group",
         "type": "\"string\""
        },
        {
         "metadata": "{}",
         "name": "category",
         "type": "\"string\""
        },
        {
         "metadata": "{}",
         "name": "category_count",
         "type": "\"long\""
        }
       ],
       "type": "table"
      }
     },
     "output_type": "display_data"
    }
   ],
   "source": [
    "#The following age groups are used:\n",
    "# 18-24 25-35 36-50 50+\n",
    "df_age_groups_category = df_pin.join(df_user, df_pin.ind == df_user.ind).select(df_user.age, df_pin.category)\n",
    "df_age_groups_category = df_age_groups_category.withColumn(\n",
    "        'age_group', when((df_age_groups_category.age >= 18) & (df_age_groups_category.age <= 24), '18-24')\n",
    "        .when((df_age_groups_category.age >= 25) & (df_age_groups_category.age <= 35), '25-35')\n",
    "        .when((df_age_groups_category.age >= 36) & (df_age_groups_category.age <= 50), '36-50')\n",
    "        .when(df_age_groups_category.age > 50, '50+')\n",
    "        .otherwise('Unknown'))\n",
    "df_age_groups_category = df_age_groups_category.groupBy('age_group', 'category').count()\n",
    "df_age_groups_category = df_age_groups_category.withColumnRenamed('count', 'category_count')\n",
    "df_age_groups_category = df_age_groups_category.orderBy('age_group', ascending=True)\n",
    "df_age_groups_category = df_age_groups_category.select('age_group', 'category', 'category_count')\n",
    "\n",
    "display(df_age_groups_category.limit(10))"
   ]
  },
  {
   "cell_type": "markdown",
   "metadata": {
    "application/vnd.databricks.v1+cell": {
     "cellMetadata": {
      "byteLimit": 2048000,
      "rowLimit": 10000
     },
     "inputWidgets": {},
     "nuid": "4327c499-7538-443c-b552-241e68abd6a5",
     "showTitle": false,
     "title": ""
    }
   },
   "source": [
    "#### Find the median follower count for these age groups:\n"
   ]
  },
  {
   "cell_type": "code",
   "execution_count": null,
   "metadata": {
    "application/vnd.databricks.v1+cell": {
     "cellMetadata": {
      "byteLimit": 2048000,
      "rowLimit": 10000
     },
     "inputWidgets": {},
     "nuid": "654f3546-67b0-4d26-a78a-a76199d83d84",
     "showTitle": false,
     "title": ""
    }
   },
   "outputs": [
    {
     "data": {
      "text/html": [
       "<style scoped>\n",
       "  .table-result-container {\n",
       "    max-height: 300px;\n",
       "    overflow: auto;\n",
       "  }\n",
       "  table, th, td {\n",
       "    border: 1px solid black;\n",
       "    border-collapse: collapse;\n",
       "  }\n",
       "  th, td {\n",
       "    padding: 5px;\n",
       "  }\n",
       "  th {\n",
       "    text-align: left;\n",
       "  }\n",
       "</style><div class='table-result-container'><table class='table-result'><thead style='background-color: white'><tr><th>age_group</th><th>median_follower_count</th></tr></thead><tbody><tr><td>18-24</td><td>130000.0</td></tr><tr><td>25-35</td><td>26000.0</td></tr><tr><td>36-50</td><td>7000.0</td></tr><tr><td>50+</td><td>877.0</td></tr></tbody></table></div>"
      ]
     },
     "metadata": {
      "application/vnd.databricks.v1+output": {
       "addedWidgets": {},
       "aggData": [],
       "aggError": "",
       "aggOverflow": false,
       "aggSchema": [],
       "aggSeriesLimitReached": false,
       "aggType": "",
       "arguments": {},
       "columnCustomDisplayInfos": {},
       "data": [
        [
         "18-24",
         130000
        ],
        [
         "25-35",
         26000
        ],
        [
         "36-50",
         7000
        ],
        [
         "50+",
         877
        ]
       ],
       "datasetInfos": [],
       "dbfsResultPath": null,
       "isJsonSchema": true,
       "metadata": {},
       "overflow": false,
       "plotOptions": {
        "customPlotOptions": {},
        "displayType": "table",
        "pivotAggregation": null,
        "pivotColumns": null,
        "xColumns": null,
        "yColumns": null
       },
       "removedWidgets": [],
       "schema": [
        {
         "metadata": "{}",
         "name": "age_group",
         "type": "\"string\""
        },
        {
         "metadata": "{}",
         "name": "median_follower_count",
         "type": "\"double\""
        }
       ],
       "type": "table"
      }
     },
     "output_type": "display_data"
    }
   ],
   "source": [
    "df_median_followers = df_pin.join(df_user, df_pin.ind == df_user.ind).select(df_user.age, df_pin.follower_count)\n",
    "df_median_followers = df_median_followers \\\n",
    "        .withColumn('age_group', when((df_median_followers.age >= 18) & (df_median_followers.age <= 24), '18-24') \\\n",
    "\t.when((df_median_followers.age >= 25) & (df_median_followers.age <= 35), '25-35') \\\n",
    "\t.when((df_median_followers.age >= 36) & (df_median_followers.age <= 50), '36-50') \\\n",
    "\t.when(df_median_followers.age > 50, '50+') \\\n",
    "\t.otherwise('Unknown'))\n",
    "#calculate median follower count\n",
    "df_median_followers = df_median_followers.groupBy('age_group') \\\n",
    "        .agg(expr('percentile(follower_count, 0.5)').alias('median_follower_count'))\n",
    "df_median_followers = df_median_followers.orderBy('age_group', ascending=True)\n",
    "\n",
    "display(df_median_followers)"
   ]
  },
  {
   "cell_type": "markdown",
   "metadata": {
    "application/vnd.databricks.v1+cell": {
     "cellMetadata": {
      "byteLimit": 2048000,
      "rowLimit": 10000
     },
     "inputWidgets": {},
     "nuid": "deadff20-052d-454d-8a07-9fa888b92847",
     "showTitle": false,
     "title": ""
    }
   },
   "source": [
    "#### Find how many users have joined each year."
   ]
  },
  {
   "cell_type": "code",
   "execution_count": null,
   "metadata": {
    "application/vnd.databricks.v1+cell": {
     "cellMetadata": {
      "byteLimit": 2048000,
      "rowLimit": 10000
     },
     "inputWidgets": {},
     "nuid": "fe4d5891-d9e2-40c0-944b-78be836761f6",
     "showTitle": false,
     "title": ""
    }
   },
   "outputs": [
    {
     "data": {
      "text/html": [
       "<style scoped>\n",
       "  .table-result-container {\n",
       "    max-height: 300px;\n",
       "    overflow: auto;\n",
       "  }\n",
       "  table, th, td {\n",
       "    border: 1px solid black;\n",
       "    border-collapse: collapse;\n",
       "  }\n",
       "  th, td {\n",
       "    padding: 5px;\n",
       "  }\n",
       "  th {\n",
       "    text-align: left;\n",
       "  }\n",
       "</style><div class='table-result-container'><table class='table-result'><thead style='background-color: white'><tr><th>post_year</th><th>number_users_joined</th></tr></thead><tbody><tr><td>2015</td><td>894</td></tr><tr><td>2016</td><td>1004</td></tr><tr><td>2017</td><td>359</td></tr></tbody></table></div>"
      ]
     },
     "metadata": {
      "application/vnd.databricks.v1+output": {
       "addedWidgets": {},
       "aggData": [],
       "aggError": "",
       "aggOverflow": false,
       "aggSchema": [],
       "aggSeriesLimitReached": false,
       "aggType": "",
       "arguments": {},
       "columnCustomDisplayInfos": {},
       "data": [
        [
         2015,
         894
        ],
        [
         2016,
         1004
        ],
        [
         2017,
         359
        ]
       ],
       "datasetInfos": [],
       "dbfsResultPath": null,
       "isJsonSchema": true,
       "metadata": {},
       "overflow": false,
       "plotOptions": {
        "customPlotOptions": {},
        "displayType": "table",
        "pivotAggregation": null,
        "pivotColumns": null,
        "xColumns": null,
        "yColumns": null
       },
       "removedWidgets": [],
       "schema": [
        {
         "metadata": "{}",
         "name": "post_year",
         "type": "\"integer\""
        },
        {
         "metadata": "{}",
         "name": "number_users_joined",
         "type": "\"long\""
        }
       ],
       "type": "table"
      }
     },
     "output_type": "display_data"
    }
   ],
   "source": [
    "df_users_joined = df_user.select(year(df_user.date_joined).alias('post_year'))\n",
    "df_users_joined = df_users_joined.groupBy('post_year').count()\n",
    "df_users_joined = df_users_joined.withColumnRenamed('count', 'number_users_joined')\n",
    "df_users_joined = df_users_joined.orderBy('post_year', ascending=True)\n",
    "\n",
    "display(df_users_joined)"
   ]
  },
  {
   "cell_type": "markdown",
   "metadata": {
    "application/vnd.databricks.v1+cell": {
     "cellMetadata": {
      "byteLimit": 2048000,
      "rowLimit": 10000
     },
     "inputWidgets": {},
     "nuid": "771670f9-aea5-46dd-a2db-5115b08a306b",
     "showTitle": false,
     "title": ""
    }
   },
   "source": [
    "#### Find median follower count of users based on the year they joined."
   ]
  },
  {
   "cell_type": "code",
   "execution_count": null,
   "metadata": {
    "application/vnd.databricks.v1+cell": {
     "cellMetadata": {
      "byteLimit": 2048000,
      "rowLimit": 10000
     },
     "inputWidgets": {},
     "nuid": "c7c9bcda-a0dc-410c-bbda-4d199c2b2950",
     "showTitle": false,
     "title": ""
    }
   },
   "outputs": [
    {
     "data": {
      "text/html": [
       "<style scoped>\n",
       "  .table-result-container {\n",
       "    max-height: 300px;\n",
       "    overflow: auto;\n",
       "  }\n",
       "  table, th, td {\n",
       "    border: 1px solid black;\n",
       "    border-collapse: collapse;\n",
       "  }\n",
       "  th, td {\n",
       "    padding: 5px;\n",
       "  }\n",
       "  th {\n",
       "    text-align: left;\n",
       "  }\n",
       "</style><div class='table-result-container'><table class='table-result'><thead style='background-color: white'><tr><th>post_year</th><th>median_follower_count</th></tr></thead><tbody><tr><td>2015</td><td>163000.0</td></tr><tr><td>2016</td><td>18000.0</td></tr><tr><td>2017</td><td>4000.0</td></tr></tbody></table></div>"
      ]
     },
     "metadata": {
      "application/vnd.databricks.v1+output": {
       "addedWidgets": {},
       "aggData": [],
       "aggError": "",
       "aggOverflow": false,
       "aggSchema": [],
       "aggSeriesLimitReached": false,
       "aggType": "",
       "arguments": {},
       "columnCustomDisplayInfos": {},
       "data": [
        [
         2015,
         163000
        ],
        [
         2016,
         18000
        ],
        [
         2017,
         4000
        ]
       ],
       "datasetInfos": [],
       "dbfsResultPath": null,
       "isJsonSchema": true,
       "metadata": {},
       "overflow": false,
       "plotOptions": {
        "customPlotOptions": {},
        "displayType": "table",
        "pivotAggregation": null,
        "pivotColumns": null,
        "xColumns": null,
        "yColumns": null
       },
       "removedWidgets": [],
       "schema": [
        {
         "metadata": "{}",
         "name": "post_year",
         "type": "\"integer\""
        },
        {
         "metadata": "{}",
         "name": "median_follower_count",
         "type": "\"double\""
        }
       ],
       "type": "table"
      }
     },
     "output_type": "display_data"
    }
   ],
   "source": [
    "#For years joined between 2015 and 2020\n",
    "df_users_joined_median_follower_count = df_user.join(df_pin, df_user.ind == df_pin.ind) \\\n",
    "        .select(year(df_user.date_joined).alias('post_year'), df_pin.follower_count)\n",
    "df_users_joined_median_follower_count = df_users_joined_median_follower_count \\\n",
    "        .groupBy('post_year').agg(expr('percentile(follower_count, 0.5)').alias('median_follower_count'))\n",
    "df_users_joined_median_follower_count = df_users_joined_median_follower_count \\\n",
    "        .orderBy('post_year', ascending=True)\n",
    "df_users_joined_median_follower_count = df_users_joined_median_follower_count \\\n",
    "        .filter(df_users_joined_median_follower_count.post_year >= 2015)\n",
    "df_users_joined_median_follower_count = df_users_joined_median_follower_count \\\n",
    "        .filter(df_users_joined_median_follower_count.post_year <= 2020)\n",
    "\n",
    "display(df_users_joined_median_follower_count)"
   ]
  },
  {
   "cell_type": "markdown",
   "metadata": {
    "application/vnd.databricks.v1+cell": {
     "cellMetadata": {
      "byteLimit": 2048000,
      "rowLimit": 10000
     },
     "inputWidgets": {},
     "nuid": "4c5bc493-e60a-461d-81e5-41c0d8161dab",
     "showTitle": false,
     "title": ""
    }
   },
   "source": [
    "#### Find the median follower count of users that have joined between 2015 and 2020, based on which age group they are part of."
   ]
  },
  {
   "cell_type": "code",
   "execution_count": null,
   "metadata": {
    "application/vnd.databricks.v1+cell": {
     "cellMetadata": {
      "byteLimit": 2048000,
      "rowLimit": 10000
     },
     "inputWidgets": {},
     "nuid": "f5511e6a-0a58-4f5f-bbc1-ba2e73a22306",
     "showTitle": false,
     "title": ""
    }
   },
   "outputs": [
    {
     "data": {
      "text/html": [
       "<style scoped>\n",
       "  .table-result-container {\n",
       "    max-height: 300px;\n",
       "    overflow: auto;\n",
       "  }\n",
       "  table, th, td {\n",
       "    border: 1px solid black;\n",
       "    border-collapse: collapse;\n",
       "  }\n",
       "  th, td {\n",
       "    padding: 5px;\n",
       "  }\n",
       "  th {\n",
       "    text-align: left;\n",
       "  }\n",
       "</style><div class='table-result-container'><table class='table-result'><thead style='background-color: white'><tr><th>post_year</th><th>age_group</th><th>median_follower_count</th></tr></thead><tbody><tr><td>2015</td><td>36-50</td><td>11000.0</td></tr><tr><td>2015</td><td>25-35</td><td>44000.0</td></tr><tr><td>2015</td><td>50+</td><td>14000.0</td></tr><tr><td>2015</td><td>18-24</td><td>228000.0</td></tr><tr><td>2016</td><td>36-50</td><td>9500.0</td></tr><tr><td>2016</td><td>25-35</td><td>24000.0</td></tr><tr><td>2016</td><td>50+</td><td>457.0</td></tr><tr><td>2016</td><td>18-24</td><td>37000.0</td></tr><tr><td>2017</td><td>36-50</td><td>3000.0</td></tr><tr><td>2017</td><td>50+</td><td>2000.0</td></tr><tr><td>2017</td><td>18-24</td><td>4000.0</td></tr><tr><td>2017</td><td>25-35</td><td>6000.0</td></tr></tbody></table></div>"
      ]
     },
     "metadata": {
      "application/vnd.databricks.v1+output": {
       "addedWidgets": {},
       "aggData": [],
       "aggError": "",
       "aggOverflow": false,
       "aggSchema": [],
       "aggSeriesLimitReached": false,
       "aggType": "",
       "arguments": {},
       "columnCustomDisplayInfos": {},
       "data": [
        [
         2015,
         "36-50",
         11000
        ],
        [
         2015,
         "25-35",
         44000
        ],
        [
         2015,
         "50+",
         14000
        ],
        [
         2015,
         "18-24",
         228000
        ],
        [
         2016,
         "36-50",
         9500
        ],
        [
         2016,
         "25-35",
         24000
        ],
        [
         2016,
         "50+",
         457
        ],
        [
         2016,
         "18-24",
         37000
        ],
        [
         2017,
         "36-50",
         3000
        ],
        [
         2017,
         "50+",
         2000
        ],
        [
         2017,
         "18-24",
         4000
        ],
        [
         2017,
         "25-35",
         6000
        ]
       ],
       "datasetInfos": [],
       "dbfsResultPath": null,
       "isJsonSchema": true,
       "metadata": {},
       "overflow": false,
       "plotOptions": {
        "customPlotOptions": {},
        "displayType": "table",
        "pivotAggregation": null,
        "pivotColumns": null,
        "xColumns": null,
        "yColumns": null
       },
       "removedWidgets": [],
       "schema": [
        {
         "metadata": "{}",
         "name": "post_year",
         "type": "\"integer\""
        },
        {
         "metadata": "{}",
         "name": "age_group",
         "type": "\"string\""
        },
        {
         "metadata": "{}",
         "name": "median_follower_count",
         "type": "\"double\""
        }
       ],
       "type": "table"
      }
     },
     "output_type": "display_data"
    }
   ],
   "source": [
    "df_med_followers_for_year_age_group = df_user.join(df_pin, df_user.ind == df_pin.ind) \\\n",
    "        .select(df_user.age, year(df_user.date_joined).alias('post_year'), df_pin.follower_count)\n",
    "df_med_followers_for_year_age_group = df_med_followers_for_year_age_group \\\n",
    "        .withColumn('age_group', when((df_med_followers_for_year_age_group.age >= 18) & (\n",
    "        df_med_followers_for_year_age_group.age <= 24), '18-24') \\\n",
    "\t.when((df_med_followers_for_year_age_group.age >= 25) & (\n",
    "         df_med_followers_for_year_age_group.age <= 35), '25-35') \\\n",
    "\t.when((df_med_followers_for_year_age_group.age >= 36) & (\n",
    "         df_med_followers_for_year_age_group.age <= 50), '36-50') \\\n",
    "\t.when(df_med_followers_for_year_age_group.age > 50, '50+')\n",
    "\t.otherwise('Unknown'))\n",
    "df_med_followers_for_year_age_group = df_med_followers_for_year_age_group \\\n",
    "        .groupBy('post_year', 'age_group').agg(expr('percentile(follower_count, 0.5)') \\\n",
    "                .alias('median_follower_count'))\n",
    "df_med_followers_for_year_age_group = df_med_followers_for_year_age_group.orderBy('post_year', ascending=True)\n",
    "df_med_followers_for_year_age_group = df_med_followers_for_year_age_group \\\n",
    "        .filter(df_med_followers_for_year_age_group.post_year >= 2015)\n",
    "df_med_followers_for_year_age_group = df_med_followers_for_year_age_group \\\n",
    "        .filter(df_med_followers_for_year_age_group.post_year <= 2020)\n",
    "\n",
    "display(df_med_followers_for_year_age_group)"
   ]
  }
 ],
 "metadata": {
  "application/vnd.databricks.v1+notebook": {
   "dashboards": [],
   "language": "python",
   "notebookMetadata": {
    "pythonIndentUnit": 4
   },
   "notebookName": "batch_transforms",
   "widgets": {}
  },
  "language_info": {
   "name": "python"
  }
 },
 "nbformat": 4,
 "nbformat_minor": 0
}
